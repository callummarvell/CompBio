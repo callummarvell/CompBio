{
 "cells": [
  {
   "cell_type": "code",
   "execution_count": 4,
   "metadata": {
    "pycharm": {
     "is_executing": true
    }
   },
   "outputs": [],
   "source": [
    "import Bio\n",
    "import numpy as np\n",
    "import math, random\n",
    "import matplotlib.pyplot as plt"
   ]
  },
  {
   "cell_type": "code",
   "execution_count": 16,
   "metadata": {},
   "outputs": [
    {
     "name": "stdout",
     "output_type": "stream",
     "text": [
      "Open->Closed@ 1\n",
      "Closed->Open@ 4\n",
      "Open->Closed@ 5\n",
      "Closed->Open@ 8\n",
      "Open->Closed@ 10\n",
      "Closed->Open@ 14\n",
      "Open->Closed@ 17\n",
      "Closed->Open@ 20\n",
      "Open->Closed@ 22\n",
      "Closed->Open@ 24\n",
      "Open->Closed@ 26\n",
      "Closed->Open@ 31\n",
      "Open->Closed@ 33\n",
      "Closed->Open@ 36\n",
      "Open->Closed@ 37\n",
      "Closed->Open@ 42\n",
      "Open->Closed@ 44\n",
      "Closed->Open@ 53\n",
      "Open->Closed@ 54\n",
      "Closed->Open@ 60\n",
      "Open->Closed@ 62\n",
      "Closed->Open@ 64\n",
      "Open->Closed@ 67\n",
      "Closed->Open@ 70\n",
      "Open->Closed@ 71\n",
      "Closed->Open@ 74\n",
      "Open->Closed@ 76\n",
      "Closed->Open@ 83\n",
      "Open->Closed@ 84\n",
      "Closed->Open@ 86\n",
      "Open->Closed@ 87\n",
      "Closed->Open@ 90\n",
      "Open->Closed@ 91\n",
      "Closed->Open@ 96\n",
      "Open->Closed@ 98\n"
     ]
    }
   ],
   "source": [
    "kp = 0.1\n",
    "km = 0.3\n",
    "random.seed(3)\n",
    "\n",
    "To = 1/km\n",
    "Tc = 1/kp\n",
    "\n",
    "r = random.random()\n",
    "start=0.5\n",
    "if r<0.5:\n",
    "    start=0\n",
    "else:\n",
    "    start=1\n",
    "\n",
    "current = start\n",
    "dt = 1\n",
    "for t in range(100):\n",
    "    Q = np.array([[1-(kp*dt), (km*dt)],[(kp*dt), 1-(km*dt)]])\n",
    "    if current==0:\n",
    "        y = random.random()\n",
    "        if y<Q[0][1]:\n",
    "            current = 1\n",
    "            print(\"Open->Closed@ \"+str(t))\n",
    "            dt = 0\n",
    "    else:\n",
    "        x = random.random()\n",
    "        if x<Q[1][0]:\n",
    "            current = 0\n",
    "            print(\"Closed->Open@ \"+str(t))\n",
    "            dt = 0\n",
    "    dt += 1"
   ]
  },
  {
   "cell_type": "code",
   "execution_count": 17,
   "metadata": {},
   "outputs": [
    {
     "name": "stdout",
     "output_type": "stream",
     "text": [
      "[[0.9 0.3]\n",
      " [0.1 0.7]]\n"
     ]
    }
   ],
   "source": [
    "print(Q)"
   ]
  },
  {
   "cell_type": "code",
   "execution_count": null,
   "metadata": {},
   "outputs": [],
   "source": []
  },
  {
   "cell_type": "code",
   "execution_count": null,
   "metadata": {},
   "outputs": [],
   "source": []
  }
 ],
 "metadata": {
  "kernelspec": {
   "display_name": "Python 3",
   "language": "python",
   "name": "python3"
  },
  "language_info": {
   "codemirror_mode": {
    "name": "ipython",
    "version": 3
   },
   "file_extension": ".py",
   "mimetype": "text/x-python",
   "name": "python",
   "nbconvert_exporter": "python",
   "pygments_lexer": "ipython3",
   "version": "3.7.6"
  }
 },
 "nbformat": 4,
 "nbformat_minor": 1
}
