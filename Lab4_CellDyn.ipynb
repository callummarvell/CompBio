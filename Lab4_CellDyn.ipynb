{
 "cells": [
  {
   "cell_type": "code",
   "execution_count": 2,
   "metadata": {
    "pycharm": {
     "is_executing": true
    }
   },
   "outputs": [],
   "source": [
    "import Bio\n",
    "import numpy as np\n",
    "import math, random\n",
    "import matplotlib.pyplot as plt"
   ]
  },
  {
   "cell_type": "code",
   "execution_count": 3,
   "metadata": {},
   "outputs": [
    {
     "name": "stdout",
     "output_type": "stream",
     "text": [
      "Open->Closed@ 1\n",
      "Closed->Open@ 4\n",
      "Open->Closed@ 5\n",
      "Closed->Open@ 8\n",
      "Open->Closed@ 10\n",
      "Closed->Open@ 14\n",
      "Open->Closed@ 17\n",
      "Closed->Open@ 20\n",
      "Open->Closed@ 22\n",
      "Closed->Open@ 24\n",
      "Open->Closed@ 26\n",
      "Closed->Open@ 31\n",
      "Open->Closed@ 33\n",
      "Closed->Open@ 36\n",
      "Open->Closed@ 37\n",
      "Closed->Open@ 42\n",
      "Open->Closed@ 44\n",
      "Closed->Open@ 53\n",
      "Open->Closed@ 54\n",
      "Closed->Open@ 60\n",
      "Open->Closed@ 62\n",
      "Closed->Open@ 64\n",
      "Open->Closed@ 67\n",
      "Closed->Open@ 70\n",
      "Open->Closed@ 71\n",
      "Closed->Open@ 74\n",
      "Open->Closed@ 76\n",
      "Closed->Open@ 83\n",
      "Open->Closed@ 84\n",
      "Closed->Open@ 86\n",
      "Open->Closed@ 87\n",
      "Closed->Open@ 90\n",
      "Open->Closed@ 91\n",
      "Closed->Open@ 96\n",
      "Open->Closed@ 98\n"
     ]
    }
   ],
   "source": [
    "kp = 0.1\n",
    "km = 0.3\n",
    "random.seed(3)\n",
    "\n",
    "To = 1/km\n",
    "Tc = 1/kp\n",
    "\n",
    "r = random.random()\n",
    "start=0.5\n",
    "if r<0.5:\n",
    "    start=0\n",
    "else:\n",
    "    start=1\n",
    "\n",
    "current = start\n",
    "dt = 1\n",
    "for t in range(100):\n",
    "    Q = np.array([[1-(kp*dt), (km*dt)],[(kp*dt), 1-(km*dt)]])\n",
    "    if current==0:\n",
    "        y = random.random()\n",
    "        if y<Q[0][1]:\n",
    "            current = 1\n",
    "            print(\"Open->Closed@ \"+str(t))\n",
    "            dt = 0\n",
    "    else:\n",
    "        x = random.random()\n",
    "        if x<Q[1][0]:\n",
    "            current = 0\n",
    "            print(\"Closed->Open@ \"+str(t))\n",
    "            dt = 0\n",
    "    dt += 1"
   ]
  },
  {
   "cell_type": "code",
   "execution_count": 4,
   "metadata": {},
   "outputs": [
    {
     "name": "stdout",
     "output_type": "stream",
     "text": [
      "[[0.9 0.3]\n",
      " [0.1 0.7]]\n"
     ]
    }
   ],
   "source": [
    "print(Q)"
   ]
  },
  {
   "cell_type": "code",
   "execution_count": 6,
   "metadata": {},
   "outputs": [
    {
     "name": "stdout",
     "output_type": "stream",
     "text": [
      "op>clo @ 2.6161212887268386\n",
      "clo>op @ 7.201923973860821\n",
      "op>clo @ 16.575489881969148\n",
      "clo>op @ 21.238138409684137\n",
      "op>clo @ 23.781579697760865\n",
      "clo>op @ 27.648777769516553\n",
      "op>clo @ 31.12373206607649\n",
      "clo>op @ 34.59168190817153\n",
      "op>clo @ 35.60423188503779\n",
      "clo>op @ 73.6887617567186\n",
      "op>clo @ 83.03490588107617\n",
      "clo>op @ 86.95022747877711\n",
      "op>clo @ 87.0748427995984\n",
      "clo>op @ 100.89299574358516\n"
     ]
    }
   ],
   "source": [
    "currents = start\n",
    "t = 1\n",
    "while t<=100:\n",
    "    rtwo = random.random()\n",
    "    TC = (1/kp) *np.log(1/rtwo)\n",
    "    TO = (1/km) *np.log(1/rtwo)\n",
    "    if currents==0:\n",
    "        print(\"op>clo @ \"+str(t+TO))\n",
    "        t += TO\n",
    "        currents = 1\n",
    "    else:\n",
    "        print(\"clo>op @ \"+str(t+TC))\n",
    "        t += TC\n",
    "        currents = 0"
   ]
  },
  {
   "cell_type": "code",
   "execution_count": null,
   "metadata": {},
   "outputs": [],
   "source": []
  },
  {
   "cell_type": "markdown",
   "metadata": {},
   "source": [
    "Task 2 Begin"
   ]
  },
  {
   "cell_type": "code",
   "execution_count": 40,
   "metadata": {},
   "outputs": [],
   "source": [
    "Mextra = 1.2 #extracellular\n",
    "Mmax = 1000\n",
    "M = 0\n",
    "km = 5 #ratecon\n",
    "t = 0\n",
    "Mt = 0 #startVal\n",
    "kpl = 0.1 #k+\n",
    "kmi = 0.3 #k-\n",
    "r1 = random.random()\n",
    "r2 = random.random()\n",
    "a1 = kpl #propensity open\n",
    "a2 = kmi #propensity close\n",
    "a3 = km*Mextra #propensity pass ion >>> 0 is closed\n",
    "currents = 1\n",
    "if currents == 0:\n",
    "    a0 = a1+a2+a3\n",
    "else:\n",
    "    a0 = a1+a2\n",
    "tau = (1/a0)*np.log(1/r1)\n",
    "if currents == 0:\n",
    "    if r2>=(1/a0)*a1 and r2<(1/a0)*(a1+a2):\n",
    "        print(\"reaction closing\")\n",
    "    elif r2>=(1/a0)*(a1+a2):\n",
    "        print(\"reaction ion passing\")\n",
    "else:\n",
    "    if r2<(1/a0)*a1:\n",
    "        print(\"reaction opening\")"
   ]
  },
  {
   "cell_type": "code",
   "execution_count": null,
   "metadata": {},
   "outputs": [],
   "source": []
  },
  {
   "cell_type": "code",
   "execution_count": null,
   "metadata": {},
   "outputs": [],
   "source": []
  }
 ],
 "metadata": {
  "kernelspec": {
   "display_name": "Python 3",
   "language": "python",
   "name": "python3"
  },
  "language_info": {
   "codemirror_mode": {
    "name": "ipython",
    "version": 3
   },
   "file_extension": ".py",
   "mimetype": "text/x-python",
   "name": "python",
   "nbconvert_exporter": "python",
   "pygments_lexer": "ipython3",
   "version": "3.7.6"
  },
  "pycharm": {
   "stem_cell": {
    "cell_type": "raw",
    "metadata": {
     "collapsed": false
    },
    "source": []
   }
  }
 },
 "nbformat": 4,
 "nbformat_minor": 1
}
