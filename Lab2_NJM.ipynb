{
 "cells": [
  {
   "cell_type": "code",
   "execution_count": 1,
   "metadata": {
    "pycharm": {
     "is_executing": false
    }
   },
   "outputs": [],
   "source": [
    "import Bio\n",
    "import numpy as np\n",
    "import math"
   ]
  },
  {
   "cell_type": "code",
   "execution_count": 5,
   "metadata": {},
   "outputs": [],
   "source": [
    "dist = np.array([[0, 12, 14, 14, 15],\n",
    "                 [12, 0, 12, 12, 13],\n",
    "                 [14, 12, 0, 6, 7],\n",
    "                 [14, 12, 6, 0, 3],\n",
    "                 [15, 13, 7, 3, 0]])\n",
    "taxa = [\"a\",\"b\",\"c\",\"d\",\"e\"]"
   ]
  },
  {
   "cell_type": "code",
   "execution_count": 60,
   "metadata": {},
   "outputs": [],
   "source": [
    "def NJM(taxa,mtx):\n",
    "    print(taxa)\n",
    "    r_taxa = []\n",
    "    for i in range(len(taxa)):\n",
    "        res = 0\n",
    "        for j in range(len(taxa)):\n",
    "            res += mtx[i][j]\n",
    "        r_taxa.append(res)\n",
    "    print(r_taxa)\n",
    "    print(mincomb(r_taxa,mtx))\n",
    "    print(\"mingot\")\n",
    "    eye = mincomb(r_taxa,mtx)[0]\n",
    "    jay = mincomb(r_taxa,mtx)[1]\n",
    "    newmtx = merge(eye,jay,r_taxa,mtx)\n",
    "    if newmtx.shape[0]>=2:\n",
    "        NJM(np.append(np.delete(taxa,[eye,jay]),taxa[eye]+taxa[jay]),newmtx)\n",
    "\n",
    "def mincomb(taxa,mtx):\n",
    "    res = [math.inf,math.inf]\n",
    "    thresh = math.inf\n",
    "    for i in range(len(taxa)):\n",
    "        for j in range(len(taxa)):\n",
    "            if i==j:\n",
    "                continue\n",
    "            mini = mtx[i][j] - (taxa[i]+taxa[j])/(len(taxa)-2)\n",
    "            if mini<thresh:\n",
    "                thresh = mini\n",
    "                res = [i,j]\n",
    "    return res\n",
    "\n",
    "def merge(i,j,taxa,mtx):\n",
    "    distj = 0.5* (mtx[i][j]+(taxa[j]-taxa[i])/(len(taxa)-2))\n",
    "    disti = 0.5* (mtx[i][j]+(taxa[i]-taxa[j])/(len(taxa)-2))\n",
    "    \n",
    "    print(disti,distj)\n",
    "    \n",
    "    newdists = []\n",
    "    for x in range(mtx.shape[0]):\n",
    "        if x!=i and x!=j:\n",
    "            temp = (mtx[i][x]+mtx[j][x]-mtx[i][j])/2\n",
    "            newdists.append(temp)\n",
    "    newdists.append(0)\n",
    "    \n",
    "    umtx = np.zeros((mtx.shape[0]-1,mtx.shape[0]-1))\n",
    "    umtx[mtx.shape[0]-2] = newdists\n",
    "    for n in range(mtx.shape[0]-2):\n",
    "        umtx[n][mtx.shape[0]-2] = newdists[n]\n",
    "    umtx[:umtx.shape[0]-1,:umtx.shape[1]-1] = deleteMtx(i,j,mtx)\n",
    "    print(umtx)\n",
    "    return umtx\n",
    "    \n",
    "def deleteMtx(i,j,mtx):\n",
    "    nmtx = np.delete(mtx,[i,j],0)\n",
    "    nmtx = np.delete(nmtx,[i,j],1)\n",
    "    np.delete(mtx,i,1)\n",
    "    np.delete(mtx,j,0)\n",
    "    np.delete(mtx,j,1)\n",
    "    print(nmtx)\n",
    "    return nmtx\n",
    "    \n",
    "            "
   ]
  },
  {
   "cell_type": "code",
   "execution_count": 61,
   "metadata": {},
   "outputs": [
    {
     "name": "stdout",
     "output_type": "stream",
     "text": [
      "['a', 'b', 'c', 'd', 'e']\n",
      "[55, 49, 39, 35, 38]\n",
      "[0, 1]\n",
      "mingot\n",
      "7.0 5.0\n",
      "[[0 6 7]\n",
      " [6 0 3]\n",
      " [7 3 0]]\n",
      "[[0. 6. 7. 7.]\n",
      " [6. 0. 3. 7.]\n",
      " [7. 3. 0. 8.]\n",
      " [7. 7. 8. 0.]]\n",
      "['c' 'd' 'e' 'ab']\n",
      "[20.0, 16.0, 18.0, 22.0]\n",
      "[0, 3]\n",
      "mingot\n",
      "3.0 4.0\n",
      "[[0. 3.]\n",
      " [3. 0.]]\n",
      "[[0. 3. 3.]\n",
      " [3. 0. 4.]\n",
      " [3. 4. 0.]]\n",
      "['d' 'e' 'cab']\n",
      "[6.0, 7.0, 7.0]\n",
      "[0, 1]\n",
      "mingot\n",
      "1.0 2.0\n",
      "[[0.]]\n",
      "[[0. 2.]\n",
      " [2. 0.]]\n",
      "['cab' 'de']\n",
      "[2.0, 2.0]\n",
      "[0, 1]\n",
      "mingot\n",
      "nan nan\n",
      "[]\n",
      "[[0.]]\n"
     ]
    },
    {
     "name": "stderr",
     "output_type": "stream",
     "text": [
      "C:\\ProgramData\\Miniconda3\\envs\\CS904\\lib\\site-packages\\ipykernel_launcher.py:25: RuntimeWarning: divide by zero encountered in double_scalars\n",
      "C:\\ProgramData\\Miniconda3\\envs\\CS904\\lib\\site-packages\\ipykernel_launcher.py:32: RuntimeWarning: invalid value encountered in double_scalars\n",
      "C:\\ProgramData\\Miniconda3\\envs\\CS904\\lib\\site-packages\\ipykernel_launcher.py:33: RuntimeWarning: invalid value encountered in double_scalars\n"
     ]
    }
   ],
   "source": [
    "NJM(taxa,dist)"
   ]
  },
  {
   "cell_type": "code",
   "execution_count": null,
   "metadata": {},
   "outputs": [],
   "source": []
  },
  {
   "cell_type": "code",
   "execution_count": null,
   "metadata": {},
   "outputs": [],
   "source": []
  }
 ],
 "metadata": {
  "kernelspec": {
   "display_name": "Python 3",
   "language": "python",
   "name": "python3"
  },
  "language_info": {
   "codemirror_mode": {
    "name": "ipython",
    "version": 3
   },
   "file_extension": ".py",
   "mimetype": "text/x-python",
   "name": "python",
   "nbconvert_exporter": "python",
   "pygments_lexer": "ipython3",
   "version": "3.7.6"
  },
  "pycharm": {
   "stem_cell": {
    "cell_type": "raw",
    "source": [],
    "metadata": {
     "collapsed": false
    }
   }
  }
 },
 "nbformat": 4,
 "nbformat_minor": 1
}