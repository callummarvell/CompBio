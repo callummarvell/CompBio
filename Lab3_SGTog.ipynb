{
 "cells": [
  {
   "cell_type": "code",
   "execution_count": 2,
   "metadata": {
    "pycharm": {
     "is_executing": true
    }
   },
   "outputs": [],
   "source": [
    "import Bio\n",
    "import numpy as np\n",
    "import math\n",
    "import random\n",
    "import matplotlib.pyplot as plt\n",
    "random.seed()"
   ]
  },
  {
   "cell_type": "code",
   "execution_count": 3,
   "metadata": {},
   "outputs": [],
   "source": [
    "genes = {\"A\":300,\"B\":300,\"C\":0,\"D\":0,\"E\":0,\"F\":0}\n",
    "genarr = list(genes.values())\n",
    "lam = 0.25\n",
    "alph = 250\n",
    "ki = 200\n",
    "ka = 400\n",
    "hi = 2\n",
    "ha = 20"
   ]
  },
  {
   "cell_type": "code",
   "execution_count": 4,
   "metadata": {},
   "outputs": [],
   "source": [
    "def compDs():\n",
    "    #print(genes)\n",
    "    dgAdt = (alph * (1/(1+np.power((genes[\"B\"]/ki),hi)))) - lam*genes[\"A\"]\n",
    "    dgBdt = (alph * (1/(1+np.power((genes[\"A\"]/ki),hi)))) - lam*genes[\"B\"]\n",
    "    dgCdt = (alph * (1/(1+np.power((ka/genes[\"A\"]),ha))) * (1/(1+np.power((genes[\"D\"]/ki),hi)))) - lam*genes[\"C\"]\n",
    "    dgDdt = (alph * (1/(1+np.power((ka/genes[\"A\"]),ha))) * (1/(1+np.power((genes[\"C\"]/ki),hi)))) - lam*genes[\"D\"]\n",
    "    dgEdt = (alph * (1/(1+np.power((ka/genes[\"B\"]),ha))) * (1/(1+np.power((genes[\"F\"]/ki),hi)))) - lam*genes[\"E\"]\n",
    "    dgFdt = (alph * (1/(1+np.power((ka/genes[\"B\"]),ha))) * (1/(1+np.power((genes[\"E\"]/ki),hi)))) - lam*genes[\"F\"]\n",
    "    return [dgAdt,dgBdt,dgCdt,dgDdt,dgEdt,dgFdt]"
   ]
  },
  {
   "cell_type": "code",
   "execution_count": 5,
   "metadata": {},
   "outputs": [
    {
     "name": "stdout",
     "output_type": "stream",
     "text": [
      "1.923076923076934\n",
      "1.923076923076934\n",
      "0.7902967861300224\n",
      "0.7902967861300224\n",
      "0.7902967861300224\n",
      "0.7902967861300224\n"
     ]
    }
   ],
   "source": [
    "for i in compDs():\n",
    "    print(i)\n",
    "diffs = compDs()"
   ]
  },
  {
   "cell_type": "code",
   "execution_count": 6,
   "metadata": {},
   "outputs": [
    {
     "name": "stdout",
     "output_type": "stream",
     "text": [
      "0\n"
     ]
    }
   ],
   "source": [
    "deltt = 1\n",
    "sigma = 10\n",
    "tmax = 100\n",
    "tmin = 0\n",
    "y = 0\n",
    "print(y)"
   ]
  },
  {
   "cell_type": "code",
   "execution_count": 10,
   "metadata": {},
   "outputs": [],
   "source": [
    "sixdim = []\n",
    "for rep in range(400):\n",
    "    stop = random.randint(tmin,tmax-1)\n",
    "    genes = {\"A\":300,\"B\":300,\"C\":0,\"D\":0,\"E\":0,\"F\":0}\n",
    "    genarr = list(genes.values())\n",
    "    for t in range(tmin,stop):\n",
    "        for g in range(len(genes)):\n",
    "            y = genarr[g] + (diffs[g]*deltt) + (sigma*np.sqrt(deltt)*random.gauss(0,1))\n",
    "            genarr[g] = y\n",
    "        #print(genes)\n",
    "        genes = fixGenes(genes,genarr)\n",
    "        diffs = compDs()\n",
    "    #print(genes)\n",
    "    genarr = list(genes.values())\n",
    "    sixdim.append(genarr)"
   ]
  },
  {
   "cell_type": "code",
   "execution_count": 11,
   "metadata": {},
   "outputs": [],
   "source": [
    "def fixGenes(genes, genarr):\n",
    "    #print(genes)\n",
    "    genes[\"A\"] = genarr[0]\n",
    "    genes[\"B\"] = genarr[1]\n",
    "    genes[\"C\"] = genarr[2]\n",
    "    genes[\"D\"] = genarr[3]\n",
    "    genes[\"E\"] = genarr[4]\n",
    "    genes[\"F\"] = genarr[5]\n",
    "    return genes"
   ]
  },
  {
   "cell_type": "code",
   "execution_count": 13,
   "metadata": {},
   "outputs": [
    {
     "name": "stdout",
     "output_type": "stream",
     "text": [
      "[[324.64377784 296.24637913   5.54868853  17.38636329   2.85227254\n",
      "   17.38580907]\n",
      " [ 55.18653238 935.16059217 -14.4043903   11.04617124 797.94911754\n",
      "   71.59710658]\n",
      " [981.27695385  25.76750563 820.00649512  62.02940576 -10.71766597\n",
      "  -27.78601816]\n",
      " ...\n",
      " [371.29133001 226.08534324  27.76187442  53.44649916  -8.90792247\n",
      "  -14.61970274]\n",
      " [948.85154344  43.76522746 877.35893473  68.44319375 -17.28747916\n",
      "   10.22742696]\n",
      " [363.66815815 248.36865546  50.95443625  60.31087699   8.46272403\n",
      "   15.83096743]]\n"
     ]
    }
   ],
   "source": [
    "sixdim = np.array(sixdim)\n",
    "print(sixdim)\n"
   ]
  },
  {
   "cell_type": "code",
   "execution_count": null,
   "metadata": {},
   "outputs": [],
   "source": []
  }
 ],
 "metadata": {
  "kernelspec": {
   "display_name": "Python 3",
   "language": "python",
   "name": "python3"
  },
  "language_info": {
   "codemirror_mode": {
    "name": "ipython",
    "version": 3
   },
   "file_extension": ".py",
   "mimetype": "text/x-python",
   "name": "python",
   "nbconvert_exporter": "python",
   "pygments_lexer": "ipython3",
   "version": "3.7.6"
  }
 },
 "nbformat": 4,
 "nbformat_minor": 1
}
