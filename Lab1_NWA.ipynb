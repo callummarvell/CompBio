{
 "cells": [
  {
   "cell_type": "code",
   "execution_count": 1,
   "metadata": {
    "pycharm": {
     "is_executing": false
    }
   },
   "outputs": [],
   "source": [
    "import numpy as np\n",
    "import math\n",
    "import Bio"
   ]
  },
  {
   "cell_type": "code",
   "execution_count": 98,
   "metadata": {
    "pycharm": {
     "name": "#%%\n"
    }
   },
   "outputs": [],
   "source": [
    "score_matrix = np.array([[-math.inf, -1, -1, -1, -1],\n",
    "                         [-1, 1, -1, -1, -1],\n",
    "                         [-1, -1, 1, -1, -1],\n",
    "                         [-1, -1, -1, 1, -1],\n",
    "                         [-1, -1, -1, -1, 1]])\n",
    "\n",
    "def smtx(a,b):\n",
    "    if a == \"-\":\n",
    "        if b == \"-\":\n",
    "            return -math.inf\n",
    "        return -0.5\n",
    "    if a == b:\n",
    "        return 1\n",
    "    if b == \"-\":\n",
    "        return -0.5\n",
    "    else:\n",
    "        return 0\n",
    "\n",
    "testo = \"GCATGCA\"\n",
    "testt = \"GATTACA\""
   ]
  },
  {
   "cell_type": "markdown",
   "metadata": {},
   "source": [
    "NWA now seems to work, just need to implement backtracking algorithmically to find optimal alignment/solution"
   ]
  },
  {
   "cell_type": "code",
   "execution_count": 89,
   "metadata": {
    "pycharm": {
     "name": "#%%\n"
    }
   },
   "outputs": [],
   "source": [
    "def NWA(seqa,seqb,fact):\n",
    "    grid = np.zeros((len(seqa)+1,len(seqb)+1))\n",
    "    srow = []\n",
    "    for i in range(len(seqb)+1):\n",
    "        srow.append(0-fact*i)\n",
    "    for i in range(len(seqa)+1):\n",
    "        grid[i][0] = 0-fact*i\n",
    "    grid[0] = srow\n",
    "    midgrid = grid[1:,1:]\n",
    "    for x in range(1,len(seqa)+1):\n",
    "        for y in range(1,len(seqb)+1):\n",
    "            grid[x][y] = max((grid[x-1][y-1]+smtx(seqa[x-1],seqb[y-1])),\n",
    "                             (grid[x-1][y]+smtx(seqa[x-1],\"-\")),\n",
    "                             (grid[x][y-1]+smtx(\"-\",seqb[y-1])))\n",
    "    print(grid)\n",
    "\n",
    "    return grid"
   ]
  },
  {
   "cell_type": "markdown",
   "metadata": {},
   "source": [
    "^^THIS IS RIGHT - IT BUILDS THE CORRECT MATRIX"
   ]
  },
  {
   "cell_type": "code",
   "execution_count": 90,
   "metadata": {},
   "outputs": [
    {
     "name": "stdout",
     "output_type": "stream",
     "text": [
      "[[ 0. -1. -2. -3. -4. -5. -6. -7.]\n",
      " [-1.  1.  0. -1. -2. -3. -4. -5.]\n",
      " [-2.  0.  0. -1. -2. -3. -2. -3.]\n",
      " [-3. -1.  1.  0. -1. -1. -2. -1.]\n",
      " [-4. -2.  0.  2.  1.  0. -1. -2.]\n",
      " [-5. -3. -1.  1.  1.  0. -1. -2.]\n",
      " [-6. -4. -2.  0.  0.  0.  1.  0.]\n",
      " [-7. -5. -3. -1. -1.  1.  0.  2.]]\n"
     ]
    }
   ],
   "source": [
    "test = NWA(testo,testt,1)"
   ]
  },
  {
   "cell_type": "code",
   "execution_count": null,
   "metadata": {
    "pycharm": {
     "name": "#%%\n"
    }
   },
   "outputs": [],
   "source": [
    "actual1 = \"CAAAGACCTGAAGAGCCAGTGGACTCCACCCCACTTTCTGGTCTGACCAATT\"\n",
    "actual2 = \"ACCACACTCTCTGGGCTGACCAATTACAGCGCTTCTACAGAACTGAAGACTCC\"\n",
    "\n",
    "NWA(actual1,actual2,0.5)"
   ]
  },
  {
   "cell_type": "code",
   "execution_count": null,
   "metadata": {
    "pycharm": {
     "name": "#%%\n"
    }
   },
   "outputs": [],
   "source": [
    "def optPath(mtx, wrd1, wrd2):\n",
    "    reverse = []\n",
    "    char1 = len(wrd1)-1\n",
    "    char2 = len(wrd2)-1\n",
    "    x = mtx.shape[0]-1\n",
    "    y = mtx.shape[1]-1\n",
    "    #left = mtx[x][y-1]\n",
    "    #up = mtx[x-1][y]\n",
    "    #diag = mtx[x-1][y-1]\n",
    "    #if diag>=up and diag>=left:\n",
    "    #    reverse.append([wrd1[char1],wrd2[char2]])\n",
    "    #    char1 = char1-1\n",
    "    #    char2 = char2-1\n",
    "    #elif up>=left:\n",
    "        \n",
    "    while not(x==0 and y==0):\n",
    "        left = mtx[x][y-1]\n",
    "        up = mtx[x-1][y]\n",
    "        diag = mtx[x-1][y-1]\n",
    "        print(y,x)\n",
    "        print(up,left,diag)\n",
    "        if diag>=up and diag>=left:\n",
    "            x=x-1\n",
    "            y=y-1\n",
    "            reverse.append([wrd1[char1],wrd2[char2]])\n",
    "            char1 = char1-1\n",
    "            char2 = char2-1\n",
    "        elif up>left:\n",
    "            x=x-1\n",
    "            reverse.append([\"-\",wrd2[char2]])\n",
    "            char2 = char2-1\n",
    "        else:\n",
    "            y=y-1\n",
    "            reverse.append([wrd1[char1],\"-\"])\n",
    "            char1 = char1-1\n",
    "    print(reverse)\n",
    "            "
   ]
  },
  {
   "cell_type": "code",
   "execution_count": null,
   "metadata": {
    "pycharm": {
     "name": "#%%\n"
    }
   },
   "outputs": [],
   "source": [
    "optPath(test, testo, testt)"
   ]
  },
  {
   "cell_type": "markdown",
   "metadata": {},
   "source": [
    "^^THIS IS WRONG - IT GETS THE WRONG MATCHINGS"
   ]
  },
  {
   "cell_type": "code",
   "execution_count": null,
   "metadata": {
    "pycharm": {
     "name": "#%%\n"
    }
   },
   "outputs": [],
   "source": [
    "p = \"CAGAGG\"\n",
    "q = \"CATGAG\"\n",
    "grid = NWA(q,p,1)"
   ]
  },
  {
   "cell_type": "code",
   "execution_count": null,
   "metadata": {
    "pycharm": {
     "name": "#%%\n"
    }
   },
   "outputs": [],
   "source": [
    "optPath(grid, q, p)"
   ]
  },
  {
   "cell_type": "code",
   "execution_count": 91,
   "metadata": {},
   "outputs": [
    {
     "name": "stdout",
     "output_type": "stream",
     "text": [
      "[[  0.   -0.5  -1.  ... -25.5 -26.  -26.5]\n",
      " [ -0.5  -1.    0.5 ... -24.5 -24.5 -25. ]\n",
      " [ -1.    0.5  -0.5 ... -24.5 -25.5 -25.5]\n",
      " ...\n",
      " [-25.  -23.5 -23.5 ...   0.   -1.   -1. ]\n",
      " [-25.5 -24.5 -24.5 ...   2.    1.    0. ]\n",
      " [-26.  -25.5 -25.5 ...   2.    1.    0. ]]\n"
     ]
    },
    {
     "data": {
      "text/plain": [
       "array([[  0. ,  -0.5,  -1. , ..., -25.5, -26. , -26.5],\n",
       "       [ -0.5,  -1. ,   0.5, ..., -24.5, -24.5, -25. ],\n",
       "       [ -1. ,   0.5,  -0.5, ..., -24.5, -25.5, -25.5],\n",
       "       ...,\n",
       "       [-25. , -23.5, -23.5, ...,   0. ,  -1. ,  -1. ],\n",
       "       [-25.5, -24.5, -24.5, ...,   2. ,   1. ,   0. ],\n",
       "       [-26. , -25.5, -25.5, ...,   2. ,   1. ,   0. ]])"
      ]
     },
     "execution_count": 91,
     "metadata": {},
     "output_type": "execute_result"
    }
   ],
   "source": []
  },
  {
   "cell_type": "code",
   "execution_count": 92,
   "metadata": {},
   "outputs": [],
   "source": [
    "def optPath(mtx, wrd1, wrd2):\n",
    "    reverse = []\n",
    "    char1 = len(wrd1)-1\n",
    "    char2 = len(wrd2)-1\n",
    "    x = mtx.shape[0]-1\n",
    "    y = mtx.shape[1]-1\n",
    "    #left = mtx[x][y-1]\n",
    "    #up = mtx[x-1][y]\n",
    "    #diag = mtx[x-1][y-1]\n",
    "    #if diag>=up and diag>=left:\n",
    "    #    reverse.append([wrd1[char1],wrd2[char2]])\n",
    "    #    char1 = char1-1\n",
    "    #    char2 = char2-1\n",
    "    #elif up>=left:\n",
    "        \n",
    "    while not(x==0 and y==0):\n",
    "        left = mtx[x][y-1]\n",
    "        up = mtx[x-1][y]\n",
    "        diag = mtx[x-1][y-1]\n",
    "        print(y,x)\n",
    "        print(up,left,diag)\n",
    "        if diag>=up and diag>=left:\n",
    "            x=x-1\n",
    "            y=y-1\n",
    "            reverse.append([wrd1[char1],wrd2[char2]])\n",
    "            char1 = char1-1\n",
    "            char2 = char2-1\n",
    "        elif up>left:\n",
    "            x=x-1\n",
    "            reverse.append([\"-\",wrd2[char2]])\n",
    "            char2 = char2-1\n",
    "        else:\n",
    "            y=y-1\n",
    "            reverse.append([wrd1[char1],\"-\"])\n",
    "            char1 = char1-1\n",
    "    print(reverse)\n",
    "            "
   ]
  },
  {
   "cell_type": "code",
   "execution_count": 93,
   "metadata": {},
   "outputs": [
    {
     "name": "stdout",
     "output_type": "stream",
     "text": [
      "7 7\n",
      "0.0 0.0 1.0\n",
      "6 6\n",
      "-1.0 0.0 0.0\n",
      "5 5\n",
      "0.0 1.0 1.0\n",
      "4 4\n",
      "-1.0 2.0 0.0\n",
      "3 4\n",
      "0.0 0.0 1.0\n",
      "2 3\n",
      "0.0 -1.0 0.0\n",
      "1 2\n",
      "1.0 -2.0 -1.0\n",
      "1 1\n",
      "-1.0 -1.0 0.0\n",
      "[['A', 'A'], ['C', 'C'], ['G', 'A'], ['T', '-'], ['A', 'T'], ['C', 'T'], ['-', 'A'], ['G', 'G']]\n"
     ]
    }
   ],
   "source": [
    "optPath(test, testo, testt)"
   ]
  },
  {
   "cell_type": "markdown",
   "metadata": {},
   "source": [
    "^^THIS IS WRONG - IT GETS THE WRONG MATCHINGS"
   ]
  },
  {
   "cell_type": "code",
   "execution_count": 96,
   "metadata": {},
   "outputs": [
    {
     "name": "stdout",
     "output_type": "stream",
     "text": [
      "[[ 0. -1. -2. -3. -4. -5. -6.]\n",
      " [-1.  1.  0. -1. -2. -3. -4.]\n",
      " [-2.  0.  2.  1.  0. -1. -2.]\n",
      " [-3. -1.  1.  1.  0. -1. -2.]\n",
      " [-4. -2.  0.  2.  1.  1.  0.]\n",
      " [-5. -3. -1.  1.  3.  2.  1.]\n",
      " [-6. -4. -2.  0.  2.  4.  3.]]\n"
     ]
    }
   ],
   "source": [
    "p = \"CAGAGG\"\n",
    "q = \"CATGAG\"\n",
    "grid = NWA(q,p,1)"
   ]
  },
  {
   "cell_type": "code",
   "execution_count": 97,
   "metadata": {},
   "outputs": [
    {
     "name": "stdout",
     "output_type": "stream",
     "text": [
      "6 6\n",
      "1.0 4.0 2.0\n",
      "5 6\n",
      "2.0 2.0 3.0\n",
      "4 5\n",
      "1.0 1.0 2.0\n",
      "3 4\n",
      "1.0 0.0 1.0\n",
      "2 3\n",
      "2.0 -1.0 0.0\n",
      "2 2\n",
      "0.0 0.0 1.0\n",
      "1 1\n",
      "-1.0 -1.0 0.0\n",
      "[['G', '-'], ['A', 'G'], ['G', 'G'], ['T', 'A'], ['-', 'G'], ['A', 'A'], ['C', 'C']]\n"
     ]
    }
   ],
   "source": [
    "optPath(grid, q, p)"
   ]
  },
  {
   "cell_type": "code",
   "execution_count": null,
   "metadata": {},
   "outputs": [],
   "source": []
  }
 ],
 "metadata": {
  "kernelspec": {
   "display_name": "Python 3",
   "language": "python",
   "name": "python3"
  },
  "language_info": {
   "codemirror_mode": {
    "name": "ipython",
    "version": 3
   },
   "file_extension": ".py",
   "mimetype": "text/x-python",
   "name": "python",
   "nbconvert_exporter": "python",
   "pygments_lexer": "ipython3",
   "version": "3.7.6"
  },
  "pycharm": {
   "stem_cell": {
    "cell_type": "raw",
    "metadata": {
     "collapsed": false
    },
    "source": []
   }
  }
 },
 "nbformat": 4,
 "nbformat_minor": 1
}
