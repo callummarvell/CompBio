{
 "cells": [
  {
   "cell_type": "code",
   "execution_count": 2,
   "metadata": {
    "pycharm": {
     "is_executing": false
    }
   },
   "outputs": [],
   "source": [
    "import numpy as np\n",
    "import math\n",
    "import Bio"
   ]
  },
  {
   "cell_type": "code",
   "execution_count": 21,
   "metadata": {
    "pycharm": {
     "name": "#%%\n"
    }
   },
   "outputs": [],
   "source": [
    "score_matrix = np.array([[-math.inf, -1, -1, -1, -1],\n",
    "                         [-1, 1, -1, -1, -1],\n",
    "                         [-1, -1, 1, -1, -1],\n",
    "                         [-1, -1, -1, 1, -1],\n",
    "                         [-1, -1, -1, -1, 1]])\n",
    "\n",
    "def smtx(a,b):\n",
    "    if a == \"-\":\n",
    "        if b == \"-\":\n",
    "            return -math.inf\n",
    "        return -1\n",
    "    if a == b:\n",
    "        return 1\n",
    "    else:\n",
    "        return -1\n",
    "\n",
    "testo = \"GCATGCA\"\n",
    "testt = \"GATTACA\""
   ]
  },
  {
   "cell_type": "markdown",
   "metadata": {},
   "source": [
    "NWA now seems to work, just need to implement backtracking algorithmically to find optimal alignment/solution"
   ]
  },
  {
   "cell_type": "code",
   "execution_count": 30,
   "metadata": {
    "pycharm": {
     "name": "#%%\n"
    }
   },
   "outputs": [],
   "source": [
    "def NWA(seqa,seqb):\n",
    "    grid = np.zeros((len(seqa)+1,len(seqb)+1))\n",
    "    srow = []\n",
    "    for i in range(len(seqa)+1):\n",
    "        srow.append(0-i)\n",
    "    for i in range(len(seqb)+1):\n",
    "        grid[i][0] = 0-i\n",
    "    grid[0] = srow\n",
    "    midgrid = grid[1:,1:]\n",
    "    for x in range(1,len(seqa)):\n",
    "        for y in range(1,len(seqb)):\n",
    "            midgrid[x][y] = max((grid[x-1][y-1]+smtx(seqa[x],seqb[y])),\n",
    "                             (grid[x-1][y]+smtx(seqa[x],\"-\")),\n",
    "                             (grid[x][y-1]+smtx(\"-\",seqb[y])))\n",
    "    print(grid)\n",
    "\n",
    "    return None"
   ]
  },
  {
   "cell_type": "code",
   "execution_count": 31,
   "metadata": {},
   "outputs": [
    {
     "name": "stdout",
     "output_type": "stream",
     "text": [
      "[[ 0. -1. -2. -3. -4. -5. -6. -7.]\n",
      " [-1.  0.  0.  0.  0.  0.  0.  0.]\n",
      " [-2.  0. -1. -1. -1. -1. -1. -1.]\n",
      " [-3.  0.  0. -1. -1.  1. -1.  1.]\n",
      " [-4.  0. -1.  1.  0. -2. -2.  0.]\n",
      " [-5.  0. -1. -1. -1.  0.  0.  0.]\n",
      " [-6.  0. -1. -1.  0.  0.  1. -1.]\n",
      " [-7.  0. -1. -1. -2.  0. -1.  1.]]\n"
     ]
    }
   ],
   "source": [
    "NWA(testo,testt)"
   ]
  },
  {
   "cell_type": "code",
   "execution_count": null,
   "metadata": {},
   "outputs": [],
   "source": []
  }
 ],
 "metadata": {
  "kernelspec": {
   "display_name": "Python 3",
   "language": "python",
   "name": "python3"
  },
  "language_info": {
   "codemirror_mode": {
    "name": "ipython",
    "version": 3
   },
   "file_extension": ".py",
   "mimetype": "text/x-python",
   "name": "python",
   "nbconvert_exporter": "python",
   "pygments_lexer": "ipython3",
   "version": "3.7.6"
  },
  "pycharm": {
   "stem_cell": {
    "cell_type": "raw",
    "metadata": {
     "collapsed": false
    },
    "source": []
   }
  }
 },
 "nbformat": 4,
 "nbformat_minor": 1
}
