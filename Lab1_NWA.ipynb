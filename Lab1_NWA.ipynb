{
 "cells": [
  {
   "cell_type": "code",
   "execution_count": 1,
   "metadata": {},
   "outputs": [],
   "source": [
    "import numpy as np\n",
    "import math\n",
    "import Bio"
   ]
  },
  {
   "cell_type": "code",
   "execution_count": null,
   "outputs": [],
   "source": [
    "score_matrix = np.array([[-math.inf, -1, -1, -1, -1],\n",
    "                         [-1, 1, -1, -1, -1],\n",
    "                         [-1, -1, 1, -1, -1],\n",
    "                         [-1, -1, -1, 1, -1],\n",
    "                         [-1, -1, -1, -1, 1]])\n",
    "\n",
    "testo = \"GCATGCU\"\n",
    "testt = \"GATTACA\""
   ],
   "metadata": {
    "collapsed": false,
    "pycharm": {
     "name": "#%%\n"
    }
   }
  },
  {
   "cell_type": "code",
   "execution_count": null,
   "metadata": {},
   "outputs": [],
   "source": [
    "score_matrix = np.array([[-math.inf, -1, -1, -1, -1],\n",
    "                         [-1, 1, -1, -1, -1],\n",
    "                         [-1, -1, 1, -1, -1],\n",
    "                         [-1, -1, -1, 1, -1],\n",
    "                         [-1, -1, -1, -1, 1]])\n",
    "\n",
    "testo = \"GCATGCU\"\n",
    "testt = \"GATTACA\""
   ]
  }
 ],
 "metadata": {
  "kernelspec": {
   "display_name": "Python 3",
   "language": "python",
   "name": "python3"
  },
  "language_info": {
   "codemirror_mode": {
    "name": "ipython",
    "version": 3
   },
   "file_extension": ".py",
   "mimetype": "text/x-python",
   "name": "python",
   "nbconvert_exporter": "python",
   "pygments_lexer": "ipython3",
   "version": "3.7.6"
  },
  "pycharm": {
   "stem_cell": {
    "cell_type": "raw",
    "source": [],
    "metadata": {
     "collapsed": false
    }
   }
  }
 },
 "nbformat": 4,
 "nbformat_minor": 1
}