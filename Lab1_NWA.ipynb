{
 "cells": [
  {
   "cell_type": "code",
   "execution_count": 2,
   "metadata": {
    "pycharm": {
     "is_executing": false
    }
   },
   "outputs": [],
   "source": [
    "import numpy as np\n",
    "import math\n",
    "import Bio\n",
    "import matplotlib.pyplot as plt"
   ]
  },
  {
   "cell_type": "code",
   "execution_count": 3,
   "metadata": {
    "pycharm": {
     "name": "#%%\n"
    }
   },
   "outputs": [],
   "source": [
    "score_matrix = np.array([[-math.inf, -1, -1, -1, -1],\n",
    "                         [-1, 1, -1, -1, -1],\n",
    "                         [-1, -1, 1, -1, -1],\n",
    "                         [-1, -1, -1, 1, -1],\n",
    "                         [-1, -1, -1, -1, 1]])\n",
    "\n",
    "def smtx(a,b):\n",
    "    if a == \"-\":\n",
    "        if b == \"-\":\n",
    "            return -math.inf\n",
    "        return -0.5\n",
    "    if a == b:\n",
    "        return 1\n",
    "    if b == \"-\":\n",
    "        return -0.5\n",
    "    else:\n",
    "        return 0\n",
    "\n",
    "testo = \"GCATGCA\"\n",
    "testt = \"GATTACA\""
   ]
  },
  {
   "cell_type": "markdown",
   "metadata": {},
   "source": [
    "NWA now seems to work, just need to implement backtracking algorithmically to find optimal alignment/solution"
   ]
  },
  {
   "cell_type": "code",
   "execution_count": 4,
   "metadata": {
    "pycharm": {
     "name": "#%%\n"
    }
   },
   "outputs": [],
   "source": [
    "def NWA(seqa,seqb,fact):\n",
    "    grid = np.zeros((len(seqa)+1,len(seqb)+1))\n",
    "    bgrid = np.zeros((len(seqa)+1,len(seqb)+1),\"U1\")\n",
    "    srow = []\n",
    "    for i in range(len(seqb)+1):\n",
    "        srow.append(0-fact*i)\n",
    "    for i in range(len(seqa)+1):\n",
    "        grid[i][0] = 0-fact*i\n",
    "    grid[0] = srow\n",
    "    midgrid = grid[1:,1:]\n",
    "    for x in range(1,len(seqa)+1):\n",
    "        for y in range(1,len(seqb)+1):\n",
    "            bestcand = [(grid[x-1][y-1]+smtx(seqa[x-1],seqb[y-1])),\n",
    "                             (grid[x-1][y]+smtx(seqa[x-1],\"-\")),\n",
    "                             (grid[x][y-1]+smtx(\"-\",seqb[y-1]))]\n",
    "            grid[x][y] = max(bestcand)\n",
    "            if max(bestcand)==bestcand[0]:\n",
    "                bgrid[x][y] = \"d\"\n",
    "            elif max(bestcand)==bestcand[1]:\n",
    "                bgrid[x][y] = \"u\"\n",
    "            else:\n",
    "                bgrid[x][y] = \"l\"\n",
    "    print(grid)\n",
    "    print(bgrid)\n",
    "    \n",
    "    return grid, bgrid"
   ]
  },
  {
   "cell_type": "markdown",
   "metadata": {},
   "source": [
    "^^THIS IS RIGHT - IT BUILDS THE CORRECT MATRIX"
   ]
  },
  {
   "cell_type": "code",
   "execution_count": 5,
   "metadata": {},
   "outputs": [
    {
     "name": "stdout",
     "output_type": "stream",
     "text": [
      "[[ 0.  -1.  -2.  -3.  -4.  -5.  -6.  -7. ]\n",
      " [-1.   1.   0.5  0.  -0.5 -1.  -1.5 -2. ]\n",
      " [-2.   0.5  1.   0.5  0.  -0.5  0.  -0.5]\n",
      " [-3.   0.   1.5  1.   0.5  1.   0.5  1. ]\n",
      " [-4.  -0.5  1.   2.5  2.   1.5  1.   0.5]\n",
      " [-5.  -1.   0.5  2.   2.5  2.   1.5  1. ]\n",
      " [-6.  -1.5  0.   1.5  2.   2.5  3.   2.5]\n",
      " [-7.  -2.  -0.5  1.   1.5  3.   2.5  4. ]]\n",
      "[['' '' '' '' '' '' '' '']\n",
      " ['' 'd' 'l' 'l' 'l' 'l' 'l' 'l']\n",
      " ['' 'u' 'd' 'd' 'd' 'd' 'd' 'l']\n",
      " ['' 'u' 'd' 'd' 'd' 'd' 'l' 'd']\n",
      " ['' 'u' 'u' 'd' 'd' 'l' 'd' 'd']\n",
      " ['' 'u' 'u' 'u' 'd' 'd' 'd' 'd']\n",
      " ['' 'u' 'u' 'u' 'd' 'd' 'd' 'l']\n",
      " ['' 'u' 'd' 'u' 'd' 'd' 'd' 'd']]\n"
     ]
    }
   ],
   "source": [
    "test, testdir = NWA(testo,testt,1)"
   ]
  },
  {
   "cell_type": "code",
   "execution_count": 6,
   "metadata": {
    "pycharm": {
     "name": "#%%\n"
    }
   },
   "outputs": [],
   "source": [
    "def optPath(mtx, mtxdir, wrd1, wrd2):\n",
    "    outgrid = np.zeros(mtx.shape)\n",
    "    reverse = []\n",
    "    char1 = len(wrd1)-1\n",
    "    char2 = len(wrd2)-1\n",
    "    print(char1,char2)\n",
    "    print(wrd1[char1],wrd2[char2])\n",
    "    x = mtx.shape[0]-1\n",
    "    y = mtx.shape[1]-1\n",
    "    #left = mtx[x][y-1]\n",
    "    #up = mtx[x-1][y]\n",
    "    #diag = mtx[x-1][y-1]\n",
    "    #if diag>=up and diag>=left:\n",
    "    #    reverse.append([wrd1[char1],wrd2[char2]])\n",
    "    #    char1 = char1-1\n",
    "    #    char2 = char2-1\n",
    "    #elif up>=left:\n",
    "        \n",
    "    while not(x==0 and y==0):\n",
    "        left = mtx[x][y-1]\n",
    "        up = mtx[x-1][y]\n",
    "        diag = mtx[x-1][y-1]\n",
    "        #print(y,x)\n",
    "        #print(up,left,diag)\n",
    "        outgrid[x][y] = 1\n",
    "        if mtxdir[x][y]==\"d\":\n",
    "            x=x-1\n",
    "            y=y-1\n",
    "            reverse.append([wrd1[char1],wrd2[char2]])\n",
    "            char1 = char1-1\n",
    "            char2 = char2-1\n",
    "        elif mtxdir[x][y]==\"u\":\n",
    "            x=x-1\n",
    "            reverse.append([\"-\",wrd2[char2]])\n",
    "            char2 = char2-1\n",
    "        else:\n",
    "            y=y-1\n",
    "            reverse.append([wrd1[char1],\"-\"])\n",
    "            char1 = char1-1\n",
    "    print(reverse)\n",
    "    return reverse, outgrid"
   ]
  },
  {
   "cell_type": "code",
   "execution_count": 7,
   "metadata": {
    "pycharm": {
     "name": "#%%\n"
    }
   },
   "outputs": [
    {
     "name": "stdout",
     "output_type": "stream",
     "text": [
      "6 6\n",
      "A A\n",
      "[['A', 'A'], ['C', 'C'], ['G', 'A'], ['T', 'T'], ['A', 'T'], ['C', 'A'], ['G', 'G']]\n"
     ]
    },
    {
     "data": {
      "text/plain": [
       "([['A', 'A'],\n",
       "  ['C', 'C'],\n",
       "  ['G', 'A'],\n",
       "  ['T', 'T'],\n",
       "  ['A', 'T'],\n",
       "  ['C', 'A'],\n",
       "  ['G', 'G']],\n",
       " array([[0., 0., 0., 0., 0., 0., 0., 0.],\n",
       "        [0., 1., 0., 0., 0., 0., 0., 0.],\n",
       "        [0., 0., 1., 0., 0., 0., 0., 0.],\n",
       "        [0., 0., 0., 1., 0., 0., 0., 0.],\n",
       "        [0., 0., 0., 0., 1., 0., 0., 0.],\n",
       "        [0., 0., 0., 0., 0., 1., 0., 0.],\n",
       "        [0., 0., 0., 0., 0., 0., 1., 0.],\n",
       "        [0., 0., 0., 0., 0., 0., 0., 1.]]))"
      ]
     },
     "execution_count": 7,
     "metadata": {},
     "output_type": "execute_result"
    }
   ],
   "source": [
    "optPath(test, testdir, testo, testt)"
   ]
  },
  {
   "cell_type": "markdown",
   "metadata": {
    "pycharm": {
     "name": "#%% md\n"
    }
   },
   "source": [
    "^^THIS IS WRONG - IT GETS THE WRONG MATCHINGS"
   ]
  },
  {
   "cell_type": "code",
   "execution_count": 8,
   "metadata": {
    "pycharm": {
     "name": "#%%\n"
    }
   },
   "outputs": [
    {
     "name": "stdout",
     "output_type": "stream",
     "text": [
      "[[ 0.  -0.5 -1.  -1.5 -2.  -2.5 -3. ]\n",
      " [-0.5  1.   0.5  0.  -0.5 -1.  -1.5]\n",
      " [-1.   0.5  2.   1.5  1.   0.5  0. ]\n",
      " [-1.5  0.   1.5  2.   1.5  1.   0.5]\n",
      " [-2.  -0.5  1.   2.5  2.   2.5  2. ]\n",
      " [-2.5 -1.   0.5  2.   3.5  3.   2.5]\n",
      " [-3.  -1.5  0.   1.5  3.   4.5  4. ]]\n",
      "[['' '' '' '' '' '' '']\n",
      " ['' 'd' 'l' 'l' 'l' 'l' 'l']\n",
      " ['' 'u' 'd' 'l' 'd' 'l' 'l']\n",
      " ['' 'u' 'u' 'd' 'd' 'd' 'd']\n",
      " ['' 'u' 'u' 'd' 'd' 'd' 'd']\n",
      " ['' 'u' 'd' 'u' 'd' 'l' 'd']\n",
      " ['' 'u' 'u' 'd' 'u' 'd' 'd']]\n"
     ]
    }
   ],
   "source": [
    "p = \"CAGAGG\"\n",
    "q = \"CATGAG\"\n",
    "grid, griddir = NWA(q,p,0.5)"
   ]
  },
  {
   "cell_type": "code",
   "execution_count": 9,
   "metadata": {
    "pycharm": {
     "name": "#%%\n"
    }
   },
   "outputs": [
    {
     "name": "stdout",
     "output_type": "stream",
     "text": [
      "5 5\n",
      "G G\n",
      "[['G', 'G'], ['A', '-'], ['G', 'G'], ['T', 'A'], ['-', 'G'], ['A', 'A'], ['C', 'C']]\n"
     ]
    },
    {
     "data": {
      "text/plain": [
       "([['G', 'G'],\n",
       "  ['A', '-'],\n",
       "  ['G', 'G'],\n",
       "  ['T', 'A'],\n",
       "  ['-', 'G'],\n",
       "  ['A', 'A'],\n",
       "  ['C', 'C']],\n",
       " array([[0., 0., 0., 0., 0., 0., 0.],\n",
       "        [0., 1., 0., 0., 0., 0., 0.],\n",
       "        [0., 0., 1., 0., 0., 0., 0.],\n",
       "        [0., 0., 1., 0., 0., 0., 0.],\n",
       "        [0., 0., 0., 1., 0., 0., 0.],\n",
       "        [0., 0., 0., 0., 1., 1., 0.],\n",
       "        [0., 0., 0., 0., 0., 0., 1.]]))"
      ]
     },
     "execution_count": 9,
     "metadata": {},
     "output_type": "execute_result"
    }
   ],
   "source": [
    "optPath(grid, griddir, q, p)"
   ]
  },
  {
   "cell_type": "code",
   "execution_count": 10,
   "metadata": {
    "pycharm": {
     "name": "#%%\n"
    }
   },
   "outputs": [
    {
     "name": "stdout",
     "output_type": "stream",
     "text": [
      "[[  0.   -0.5  -1.  ... -25.5 -26.  -26.5]\n",
      " [ -0.5   0.    0.5 ... -24.  -24.5 -25. ]\n",
      " [ -1.    0.5   0.  ... -22.5 -23.  -23.5]\n",
      " ...\n",
      " [-25.  -23.5 -22.  ...  21.5  21.   20.5]\n",
      " [-25.5 -24.  -22.5 ...  23.   22.5  22. ]\n",
      " [-26.  -24.5 -23.  ...  22.5  23.   22.5]]\n",
      "[['' '' '' ... '' '' '']\n",
      " ['' 'd' 'd' ... 'l' 'd' 'd']\n",
      " ['' 'd' 'd' ... 'l' 'l' 'l']\n",
      " ...\n",
      " ['' 'd' 'u' ... 'd' 'd' 'd']\n",
      " ['' 'u' 'u' ... 'd' 'l' 'l']\n",
      " ['' 'u' 'u' ... 'd' 'd' 'd']]\n"
     ]
    }
   ],
   "source": [
    "actual1 = \"CAAAGACCTGAAGAGCCAGTGGACTCCACCCCACTTTCTGGTCTGACCAATT\"\n",
    "actual2 = \"ACCACACTCTCTGGGCTGACCAATTACAGCGCTTCTACAGAACTGAAGACTCC\"\n",
    "\n",
    "grid, bgrid = NWA(actual1,actual2,0.5)"
   ]
  },
  {
   "cell_type": "code",
   "execution_count": 13,
   "metadata": {
    "pycharm": {
     "name": "#%%\n"
    }
   },
   "outputs": [
    {
     "name": "stdout",
     "output_type": "stream",
     "text": [
      "52 51\n",
      "C T\n",
      "[['C', 'T'], ['C', '-'], ['T', 'T'], ['C', 'A'], ['A', 'A'], ['G', 'C'], ['A', 'C'], ['A', 'A'], ['G', 'G'], ['T', 'T'], ['C', 'C'], ['A', 'T'], ['A', 'G'], ['G', 'G'], ['A', 'T'], ['C', 'C'], ['A', '-'], ['T', 'T'], ['C', '-'], ['T', 'T'], ['T', 'T'], ['C', 'C'], ['G', 'A'], ['C', 'C'], ['G', 'C'], ['A', 'C'], ['C', 'C'], ['A', 'A'], ['T', 'C'], ['-', 'C'], ['T', 'T'], ['A', 'C'], ['A', 'A'], ['C', 'G'], ['C', 'G'], ['A', 'T'], ['G', 'G'], ['T', 'A'], ['C', 'C'], ['G', 'C'], ['G', 'G'], ['-', 'A'], ['G', 'G'], ['T', 'A'], ['C', 'A'], ['-', 'G'], ['T', 'T'], ['C', 'C'], ['T', '-'], ['C', 'C'], ['A', 'A'], ['C', 'G'], ['A', 'A'], ['C', 'A'], ['C', 'A'], ['A', 'C']]\n"
     ]
    },
    {
     "data": {
      "text/plain": [
       "<matplotlib.image.AxesImage at 0x1b9120cb4c8>"
      ]
     },
     "execution_count": 13,
     "metadata": {},
     "output_type": "execute_result"
    },
    {
     "data": {
      "image/png": "[encoded data removed]",
      "text/plain": [
       "<Figure size 720x720 with 1 Axes>"
      ]
     },
     "metadata": {
      "needs_background": "light"
     },
     "output_type": "display_data"
    }
   ],
   "source": [
    "rawpath, outgrid = optPath(grid,bgrid,actual2,actual1)\n",
    "fig = plt.figure(figsize=(10,10))\n",
    "plt.imshow(outgrid)"
   ]
  },
  {
   "cell_type": "code",
   "execution_count": 14,
   "metadata": {},
   "outputs": [
    {
     "name": "stdout",
     "output_type": "stream",
     "text": [
      "ACCACACTCT-CTG-GGCTGACCAAT-TACAGCGCTTCTACAGAACTGAAGACTCC\n",
      "CAAAGAC-CTGAAGAGCCAGTGGACTCCACCCCACTT-T-CTGGTCTGACCAAT-T\n"
     ]
    }
   ],
   "source": [
    "rawpath = np.array(rawpath)\n",
    "patha = rawpath[:,0]\n",
    "pathb = rawpath[:,1]\n",
    "#print(patha)\n",
    "#print(pathb)\n",
    "patha = patha[::-1]\n",
    "pathb = pathb[::-1]\n",
    "stra = \"\"\n",
    "strb = \"\"\n",
    "for a in patha:\n",
    "    stra = stra+a\n",
    "print(stra)\n",
    "for b in pathb:\n",
    "    strb = strb+b\n",
    "print(strb)"
   ]
  },
  {
   "cell_type": "code",
   "execution_count": null,
   "metadata": {},
   "outputs": [],
   "source": []
  },
  {
   "cell_type": "code",
   "execution_count": null,
   "metadata": {},
   "outputs": [],
   "source": []
  },
  {
   "cell_type": "code",
   "execution_count": null,
   "metadata": {},
   "outputs": [],
   "source": []
  }
 ],
 "metadata": {
  "kernelspec": {
   "display_name": "Python 3",
   "language": "python",
   "name": "python3"
  },
  "language_info": {
   "codemirror_mode": {
    "name": "ipython",
    "version": 3
   },
   "file_extension": ".py",
   "mimetype": "text/x-python",
   "name": "python",
   "nbconvert_exporter": "python",
   "pygments_lexer": "ipython3",
   "version": "3.7.6"
  },
  "pycharm": {
   "stem_cell": {
    "cell_type": "raw",
    "metadata": {
     "collapsed": false
    },
    "source": []
   }
  }
 },
 "nbformat": 4,
 "nbformat_minor": 1
}
