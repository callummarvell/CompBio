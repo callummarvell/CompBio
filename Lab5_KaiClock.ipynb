{
 "cells": [
  {
   "cell_type": "code",
   "execution_count": 9,
   "metadata": {},
   "outputs": [],
   "source": [
    "import Bio\n",
    "import numpy as np\n",
    "import math, random\n",
    "import matplotlib.pyplot as plt\n",
    "from scipy.integrate import solve_ivp"
   ]
  },
  {
   "cell_type": "code",
   "execution_count": 10,
   "metadata": {},
   "outputs": [],
   "source": [
    "T = 0.68\n",
    "D = 1.36\n",
    "S = 0.34\n",
    "U = 3.4 - T - D - S"
   ]
  },
  {
   "cell_type": "code",
   "execution_count": 13,
   "metadata": {},
   "outputs": [],
   "source": [
    "KaiA = 1.3\n",
    "K = 0.43\n",
    "AS = max(0,KaiA-(2*S))\n",
    "\n",
    "k0s = [0,0,0,0,0.21,0,0.31,0.11]\n",
    "kAs = [0.479077,0.212923,0.505692,0.0532308,0.0798462,0.173,-0.319385,-0.133077]\n",
    "kS = np.zeros(8)\n",
    "for x in range(8):\n",
    "    kS[x] = k0s[x] + ((kAs[x]*AS)/K+AS)"
   ]
  },
  {
   "cell_type": "code",
   "execution_count": 14,
   "metadata": {},
   "outputs": [],
   "source": [
    "dTdt = (kS[0]*U) + (kS[5]*D) - (kS[4]*T) - (kS[5]*T)\n",
    "dDdt = (kS[5]*T) + (kS[2]*S) - (kS[5]*D) - (kS[6]*D)\n",
    "dSdt = (kS[3]*U) + (kS[6]*D) - (kS[7]*S) - (kS[2]*S)"
   ]
  },
  {
   "cell_type": "code",
   "execution_count": null,
   "outputs": [],
   "source": [
    "solve_ivp()"
   ],
   "metadata": {
    "collapsed": false,
    "pycharm": {
     "name": "#%%\n"
    }
   }
  },
  {
   "cell_type": "code",
   "execution_count": null,
   "metadata": {},
   "outputs": [],
   "source": [
    "solve_ivp()"
   ]
  }
 ],
 "metadata": {
  "kernelspec": {
   "display_name": "Python 3",
   "language": "python",
   "name": "python3"
  },
  "language_info": {
   "codemirror_mode": {
    "name": "ipython",
    "version": 3
   },
   "file_extension": ".py",
   "mimetype": "text/x-python",
   "name": "python",
   "nbconvert_exporter": "python",
   "pygments_lexer": "ipython3",
   "version": "3.7.6"
  },
  "pycharm": {
   "stem_cell": {
    "cell_type": "raw",
    "source": [],
    "metadata": {
     "collapsed": false
    }
   }
  }
 },
 "nbformat": 4,
 "nbformat_minor": 1
}