{
 "cells": [
  {
   "cell_type": "code",
   "execution_count": 1,
   "metadata": {
    "pycharm": {
     "is_executing": false
    }
   },
   "outputs": [],
   "source": [
    "import numpy as np\n",
    "import math\n",
    "import Bio\n",
    "import matplotlib.pyplot as plt"
   ]
  },
  {
   "cell_type": "code",
   "execution_count": 2,
   "metadata": {
    "pycharm": {
     "name": "#%%\n"
    }
   },
   "outputs": [],
   "source": [
    "score_matrix = np.array([[-math.inf, -1, -1, -1, -1],\n",
    "                         [-1, 1, -1, -1, -1],\n",
    "                         [-1, -1, 1, -1, -1],\n",
    "                         [-1, -1, -1, 1, -1],\n",
    "                         [-1, -1, -1, -1, 1]])\n",
    "\n",
    "def smtx(a,b):\n",
    "    if a == \"-\":\n",
    "        if b == \"-\":\n",
    "            return -math.inf\n",
    "        return -0.5\n",
    "    if a == b:\n",
    "        return 1\n",
    "    if b == \"-\":\n",
    "        return -0.5\n",
    "    else:\n",
    "        return 0\n",
    "\n",
    "testo = \"GCATGCA\"\n",
    "testt = \"GATTACA\""
   ]
  },
  {
   "cell_type": "code",
   "execution_count": 3,
   "metadata": {
    "pycharm": {
     "name": "#%%\n"
    }
   },
   "outputs": [],
   "source": [
    "def NWA(seqa,seqb,fact):\n",
    "    grid = np.zeros((len(seqa)+1,len(seqb)+1))\n",
    "    bgrid = np.zeros((len(seqa)+1,len(seqb)+1),\"U1\")\n",
    "    srow = []\n",
    "    for i in range(len(seqb)+1):\n",
    "        srow.append(0-fact*i)\n",
    "    for i in range(len(seqa)+1):\n",
    "        grid[i][0] = 0-fact*i\n",
    "    grid[0] = srow\n",
    "    midgrid = grid[1:,1:]\n",
    "    for x in range(1,len(seqa)+1):\n",
    "        for y in range(1,len(seqb)+1):\n",
    "            bestcand = [(grid[x-1][y-1]+smtx(seqa[x-1],seqb[y-1])),\n",
    "                             (grid[x-1][y]+smtx(seqa[x-1],\"-\")),\n",
    "                             (grid[x][y-1]+smtx(\"-\",seqb[y-1]))]\n",
    "            grid[x][y] = max(bestcand)\n",
    "            if max(bestcand)==bestcand[0]:\n",
    "                bgrid[x][y] = \"d\"\n",
    "            elif max(bestcand)==bestcand[1]:\n",
    "                bgrid[x][y] = \"u\"\n",
    "            else:\n",
    "                bgrid[x][y] = \"l\"\n",
    "    print(grid)\n",
    "    print(bgrid)\n",
    "    \n",
    "    return grid, bgrid"
   ]
  },
  {
   "cell_type": "code",
   "execution_count": 4,
   "metadata": {
    "pycharm": {
     "name": "#%%\n"
    }
   },
   "outputs": [],
   "source": [
    "def optPath(mtx, mtxdir, wrd1, wrd2):\n",
    "    outgrid = np.zeros(mtx.shape)\n",
    "    reverse = []\n",
    "    char1 = len(wrd1)-1\n",
    "    char2 = len(wrd2)-1\n",
    "    #print(char1,char2)\n",
    "    #print(wrd1[char1],wrd2[char2])\n",
    "    x = mtx.shape[0]-1\n",
    "    y = mtx.shape[1]-1\n",
    "    #left = mtx[x][y-1]\n",
    "    #up = mtx[x-1][y]\n",
    "    #diag = mtx[x-1][y-1]\n",
    "    #if diag>=up and diag>=left:\n",
    "    #    reverse.append([wrd1[char1],wrd2[char2]])\n",
    "    #    char1 = char1-1\n",
    "    #    char2 = char2-1\n",
    "    #elif up>=left:\n",
    "        \n",
    "    while not(x==0 and y==0):\n",
    "        left = mtx[x][y-1]\n",
    "        up = mtx[x-1][y]\n",
    "        diag = mtx[x-1][y-1]\n",
    "        #print(y,x)\n",
    "        #print(up,left,diag)\n",
    "        outgrid[x][y] = 1\n",
    "        if mtxdir[x][y]==\"d\":\n",
    "            x=x-1\n",
    "            y=y-1\n",
    "            reverse.append([wrd1[char1],wrd2[char2]])\n",
    "            char1 = char1-1\n",
    "            char2 = char2-1\n",
    "        elif mtxdir[x][y]==\"u\":\n",
    "            x=x-1\n",
    "            reverse.append([\"-\",wrd2[char2]])\n",
    "            char2 = char2-1\n",
    "        else:\n",
    "            y=y-1\n",
    "            reverse.append([wrd1[char1],\"-\"])\n",
    "            char1 = char1-1\n",
    "    #print(reverse)\n",
    "    return reverse, outgrid"
   ]
  },
  {
   "cell_type": "code",
   "execution_count": 5,
   "metadata": {},
   "outputs": [
    {
     "name": "stdout",
     "output_type": "stream",
     "text": [
      "[[  0.   -0.5  -1.  ... -25.5 -26.  -26.5]\n",
      " [ -0.5   0.    0.5 ... -24.  -24.5 -25. ]\n",
      " [ -1.    0.5   0.  ... -22.5 -23.  -23.5]\n",
      " ...\n",
      " [-25.  -23.5 -22.  ...  21.5  21.   20.5]\n",
      " [-25.5 -24.  -22.5 ...  23.   22.5  22. ]\n",
      " [-26.  -24.5 -23.  ...  22.5  23.   22.5]]\n",
      "[['' '' '' ... '' '' '']\n",
      " ['' 'd' 'd' ... 'l' 'd' 'd']\n",
      " ['' 'd' 'd' ... 'l' 'l' 'l']\n",
      " ...\n",
      " ['' 'd' 'u' ... 'd' 'd' 'd']\n",
      " ['' 'u' 'u' ... 'd' 'l' 'l']\n",
      " ['' 'u' 'u' ... 'd' 'd' 'd']]\n"
     ]
    }
   ],
   "source": [
    "actual1 = \"CAAAGACCTGAAGAGCCAGTGGACTCCACCCCACTTTCTGGTCTGACCAATT\"\n",
    "actual2 = \"ACCACACTCTCTGGGCTGACCAATTACAGCGCTTCTACAGAACTGAAGACTCC\"\n",
    "\n",
    "grid, bgrid = NWA(actual1,actual2,0.5)"
   ]
  },
  {
   "cell_type": "code",
   "execution_count": 6,
   "metadata": {},
   "outputs": [
    {
     "data": {
      "text/plain": [
       "<matplotlib.image.AxesImage at 0x2574ea86f88>"
      ]
     },
     "execution_count": 6,
     "metadata": {},
     "output_type": "execute_result"
    },
    {
     "data": {
      "image/png": "[encoded data removed]",
      "text/plain": [
       "<Figure size 432x288 with 1 Axes>"
      ]
     },
     "metadata": {
      "needs_background": "light"
     },
     "output_type": "display_data"
    }
   ],
   "source": [
    "rawpath, outgrid = optPath(grid,bgrid,actual2,actual1)\n",
    "plt.imshow(outgrid)"
   ]
  },
  {
   "cell_type": "code",
   "execution_count": 7,
   "metadata": {},
   "outputs": [
    {
     "name": "stdout",
     "output_type": "stream",
     "text": [
      "ACCACACTCT-CTG-GGCTGACCAAT-TACAGCGCTTCTACAGAACTGAAGACTCC\n",
      "CAAAGAC-CTGAAGAGCCAGTGGACTCCACCCCACTT-T-CTGGTCTGACCAAT-T\n"
     ]
    }
   ],
   "source": [
    "rawpath = np.array(rawpath)\n",
    "patha = rawpath[:,0]\n",
    "pathb = rawpath[:,1]\n",
    "#print(patha)\n",
    "#print(pathb)\n",
    "patha = patha[::-1]\n",
    "pathb = pathb[::-1]\n",
    "stra = \"\"\n",
    "strb = \"\"\n",
    "for a in patha:\n",
    "    stra = stra+a\n",
    "print(stra)\n",
    "for b in pathb:\n",
    "    strb = strb+b\n",
    "print(strb)"
   ]
  },
  {
   "cell_type": "code",
   "execution_count": null,
   "metadata": {},
   "outputs": [],
   "source": []
  }
 ],
 "metadata": {
  "kernelspec": {
   "display_name": "Python 3",
   "language": "python",
   "name": "python3"
  },
  "language_info": {
   "codemirror_mode": {
    "name": "ipython",
    "version": 3
   },
   "file_extension": ".py",
   "mimetype": "text/x-python",
   "name": "python",
   "nbconvert_exporter": "python",
   "pygments_lexer": "ipython3",
   "version": "3.7.6"
  },
  "pycharm": {
   "stem_cell": {
    "cell_type": "raw",
    "metadata": {
     "collapsed": false
    },
    "source": []
   }
  }
 },
 "nbformat": 4,
 "nbformat_minor": 1
}
