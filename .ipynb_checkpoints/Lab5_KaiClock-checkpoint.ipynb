{
 "cells": [
  {
   "cell_type": "code",
   "execution_count": 2,
   "metadata": {
    "pycharm": {
     "is_executing": false
    }
   },
   "outputs": [],
   "source": [
    "import Bio\n",
    "import numpy as np\n",
    "import math, random\n",
    "import matplotlib.pyplot as plt\n",
    "from scipy.integrate import solve_ivp"
   ]
  },
  {
   "cell_type": "code",
   "execution_count": 7,
   "metadata": {},
   "outputs": [],
   "source": [
    "#set zero values\n",
    "T = 0.68\n",
    "D = 1.36\n",
    "S = 0.34\n",
    "U = 3.4 - T - D - S"
   ]
  },
  {
   "cell_type": "code",
   "execution_count": 70,
   "metadata": {},
   "outputs": [
    {
     "ename": "TypeError",
     "evalue": "A() missing 1 required positional argument: 'S'",
     "output_type": "error",
     "traceback": [
      "\u001b[1;31m---------------------------------------------------------------------------\u001b[0m",
      "\u001b[1;31mTypeError\u001b[0m                                 Traceback (most recent call last)",
      "\u001b[1;32m<ipython-input-70-51d79af56284>\u001b[0m in \u001b[0;36m<module>\u001b[1;34m\u001b[0m\n\u001b[0;32m     10\u001b[0m \u001b[0mkS\u001b[0m \u001b[1;33m=\u001b[0m \u001b[0mnp\u001b[0m\u001b[1;33m.\u001b[0m\u001b[0mzeros\u001b[0m\u001b[1;33m(\u001b[0m\u001b[1;36m8\u001b[0m\u001b[1;33m)\u001b[0m\u001b[1;33m\u001b[0m\u001b[1;33m\u001b[0m\u001b[0m\n\u001b[0;32m     11\u001b[0m \u001b[1;32mfor\u001b[0m \u001b[0mx\u001b[0m \u001b[1;32min\u001b[0m \u001b[0mrange\u001b[0m\u001b[1;33m(\u001b[0m\u001b[1;36m8\u001b[0m\u001b[1;33m)\u001b[0m\u001b[1;33m:\u001b[0m\u001b[1;33m\u001b[0m\u001b[1;33m\u001b[0m\u001b[0m\n\u001b[1;32m---> 12\u001b[1;33m     \u001b[0mkS\u001b[0m\u001b[1;33m[\u001b[0m\u001b[0mx\u001b[0m\u001b[1;33m]\u001b[0m \u001b[1;33m=\u001b[0m \u001b[0mk0s\u001b[0m\u001b[1;33m[\u001b[0m\u001b[0mx\u001b[0m\u001b[1;33m]\u001b[0m \u001b[1;33m+\u001b[0m \u001b[1;33m(\u001b[0m\u001b[1;33m(\u001b[0m\u001b[0mkAs\u001b[0m\u001b[1;33m[\u001b[0m\u001b[0mx\u001b[0m\u001b[1;33m]\u001b[0m\u001b[1;33m*\u001b[0m\u001b[0mA\u001b[0m\u001b[1;33m(\u001b[0m\u001b[0mS\u001b[0m\u001b[1;33m)\u001b[0m\u001b[1;33m)\u001b[0m\u001b[1;33m/\u001b[0m\u001b[0mK\u001b[0m\u001b[1;33m+\u001b[0m\u001b[0mA\u001b[0m\u001b[1;33m(\u001b[0m\u001b[0mS\u001b[0m\u001b[1;33m)\u001b[0m\u001b[1;33m)\u001b[0m\u001b[1;33m\u001b[0m\u001b[1;33m\u001b[0m\u001b[0m\n\u001b[0m",
      "\u001b[1;31mTypeError\u001b[0m: A() missing 1 required positional argument: 'S'"
     ]
    }
   ],
   "source": [
    "KaiA = 1.3\n",
    "K = 0.43\n",
    "#AS = max(0,KaiA-(2*S))\n",
    "\n",
    "def A(KaiA,S):\n",
    "    max(0,KaiA-(2*S))\n",
    "\n",
    "k0s = [0,0,0,0,0.21,0,0.31,0.11]\n",
    "kAs = [0.479077,0.212923,0.505692,0.0532308,0.0798462,0.173,-0.319385,-0.133077]\n",
    "kS = np.zeros(8)\n",
    "for x in range(8):\n",
    "    kS[x] = k0s[x] + ((kAs[x]*A(KaiA,S))/K+A(KaiA,S))"
   ]
  },
  {
   "cell_type": "code",
   "execution_count": 5,
   "metadata": {},
   "outputs": [],
   "source": [
    "#define derivatives\n",
    "dTdt = (kS[0]*U) + (kS[5]*D) - (kS[4]*T) - (kS[5]*T)\n",
    "dDdt = (kS[5]*T) + (kS[2]*S) - (kS[5]*D) - (kS[6]*D)\n",
    "dSdt = (kS[3]*U) + (kS[6]*D) - (kS[7]*S) - (kS[2]*S)"
   ]
  },
  {
   "cell_type": "code",
   "execution_count": 67,
   "metadata": {},
   "outputs": [],
   "source": [
    "y0 = [T,D,S]\n",
    "def fun(t,y):\n",
    "    global KaiA,K,AS,K0s,kAs,kS\n",
    "    T = y[0]\n",
    "    D = y[1]\n",
    "    S = y[2]\n",
    "    U = 3.4 - T - D - S\n",
    "    out = [None,None,None]\n",
    "    def dT(U,D,T,kS):\n",
    "        return (kS[0]*U) + (kS[5]*D) - (kS[4]*T) - (kS[5]*T)\n",
    "    def dD(T,S,D,kS):\n",
    "        return (kS[5]*T) + (kS[2]*S) - (kS[5]*D) - (kS[6]*D)\n",
    "    def dS(U,D,S,kS):\n",
    "        return (kS[3]*U) + (kS[6]*D) - (kS[7]*S) - (kS[2]*S)\n",
    "    out[0] = dT(U,D,T,kS)\n",
    "    out[1] = dD(T,S,D,kS)\n",
    "    out[2] = dS(U,D,S,kS)\n",
    "    \n",
    "'''    T = T + out[0]\n",
    "    D = D + out[1]\n",
    "    S = S + out[2]\n",
    "    \n",
    "    AS = max(0,KaiA-(2*S))\n",
    "\n",
    "    k0s = [0,0,0,0,0.21,0,0.31,0.11]\n",
    "    kAs = [0.479077,0.212923,0.505692,0.0532308,0.0798462,0.173,-0.319385,-0.133077]\n",
    "    kS = np.zeros(8)\n",
    "    for x in range(8):\n",
    "        kS[x] = k0s[x] + ((kAs[x]*AS)/K+AS)'''\n",
    "    \n",
    "    return out"
   ]
  },
  {
   "cell_type": "code",
   "execution_count": 68,
   "metadata": {
    "pycharm": {
     "name": "#%%\n"
    }
   },
   "outputs": [
    {
     "name": "stdout",
     "output_type": "stream",
     "text": [
      "[[0.68       0.72430235 0.77595501 0.82823718 0.87336017 0.90458575\n",
      "  0.91724077 0.90832182 0.87436829 0.82229516 0.45394788 0.25060184\n",
      "  0.13159135 0.12754488 0.12147073 0.1180346  0.11502373 0.1121988\n",
      "  0.1097368  0.10738725 0.10529861 0.1032772  0.10124495 0.09849738\n",
      "  0.10079469 0.10948544 0.12141026 0.13819714 0.15944079 0.18665269\n",
      "  0.22100295 0.26534114 0.32543095 0.38519262 0.43886834 0.46316727\n",
      "  0.48710459 0.48339073 0.48538552 0.4833791  0.4826454  0.48251543\n",
      "  0.48229896 0.47944329 0.4773092  0.48934223 0.48448323 0.48507259\n",
      "  0.48348995 0.48393843 0.48495468 0.48102669 0.4828291  0.48531641\n",
      "  0.48180925 0.48165628 0.48190956 0.48419639 0.48269747 0.48374882\n",
      "  0.48254796 0.48318978 0.48826179 0.48218254 0.48352672 0.48408776\n",
      "  0.48467067]\n",
      " [1.36       1.3319379  1.2996488  1.26304404 1.2242645  1.18324763\n",
      "  1.13762247 1.08207714 1.00710808 0.91983728 0.38283213 0.15933301\n",
      "  0.06161232 0.05883612 0.05474715 0.05247649 0.05051253 0.04869198\n",
      "  0.04712301 0.04564124 0.04433691 0.04308624 0.04184055 0.04025449\n",
      "  0.0401671  0.04183277 0.04443124 0.04841656 0.05370961 0.06085197\n",
      "  0.07038428 0.08355624 0.10315068 0.124844   0.14687355 0.15776142\n",
      "  0.16958289 0.16807705 0.16937824 0.16853445 0.16823576 0.16817607\n",
      "  0.1678165  0.16632696 0.16473221 0.17100353 0.16887663 0.16939879\n",
      "  0.16876482 0.16913197 0.1693087  0.16738781 0.16833248 0.1697814\n",
      "  0.16807219 0.16797242 0.16807604 0.16921274 0.16846965 0.16900724\n",
      "  0.16839762 0.16869783 0.17120527 0.16820191 0.16888266 0.16925981\n",
      "  0.16954588]\n",
      " [0.34       0.36592977 0.3963494  0.43154233 0.46949569 0.50971187\n",
      "  0.55314814 0.60259762 0.66344232 0.72830489 0.98456743 0.90897077\n",
      "  0.72936586 0.72028385 0.70614375 0.69786264 0.69043142 0.68330544\n",
      "  0.67696987 0.67081178 0.66524327 0.65976734 0.65417392 0.64710919\n",
      "  0.64165375 0.63768404 0.63444031 0.63209475 0.63014137 0.62872142\n",
      "  0.62774587 0.6273115  0.62784705 0.62893592 0.63152289 0.63262118\n",
      "  0.63533939 0.63492115 0.63530194 0.63498485 0.63487687 0.63476082\n",
      "  0.63450832 0.63391651 0.63371004 0.63555239 0.63518934 0.63540057\n",
      "  0.63524824 0.63545724 0.63548085 0.634919   0.63506399 0.63563972\n",
      "  0.63532152 0.6352294  0.63518237 0.63543627 0.63518451 0.63530572\n",
      "  0.63518546 0.63527407 0.63615221 0.6353177  0.63539572 0.6356462\n",
      "  0.63570687]]\n"
     ]
    }
   ],
   "source": [
    "solve_ivp(fun,(0,50),[0.68,1.36,0.34])\n",
    "print(ivp['y'])"
   ]
  },
  {
   "cell_type": "code",
   "execution_count": 69,
   "metadata": {},
   "outputs": [
    {
     "data": {
      "text/plain": [
       "[<matplotlib.lines.Line2D at 0x215f2b9d308>,\n",
       " <matplotlib.lines.Line2D at 0x215f2b9d508>,\n",
       " <matplotlib.lines.Line2D at 0x215f2b9d6c8>]"
      ]
     },
     "execution_count": 69,
     "metadata": {},
     "output_type": "execute_result"
    },
    {
     "data": {
      "image/png": "[encoded data removed]",
      "text/plain": [
       "<Figure size 432x288 with 1 Axes>"
      ]
     },
     "metadata": {
      "needs_background": "light"
     },
     "output_type": "display_data"
    }
   ],
   "source": [
    "trange = np.arange(0,67,1)\n",
    "plt.plot(trange,ivp['y'][0],trange,ivp['y'][1],trange,ivp['y'][2])"
   ]
  },
  {
   "cell_type": "code",
   "execution_count": null,
   "metadata": {},
   "outputs": [],
   "source": []
  }
 ],
 "metadata": {
  "kernelspec": {
   "display_name": "Python 3",
   "language": "python",
   "name": "python3"
  },
  "language_info": {
   "codemirror_mode": {
    "name": "ipython",
    "version": 3
   },
   "file_extension": ".py",
   "mimetype": "text/x-python",
   "name": "python",
   "nbconvert_exporter": "python",
   "pygments_lexer": "ipython3",
   "version": "3.7.6"
  },
  "pycharm": {
   "stem_cell": {
    "cell_type": "raw",
    "metadata": {
     "collapsed": false
    },
    "source": []
   }
  }
 },
 "nbformat": 4,
 "nbformat_minor": 1
}
