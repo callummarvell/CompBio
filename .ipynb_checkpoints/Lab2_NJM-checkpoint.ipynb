{
 "cells": [
  {
   "cell_type": "code",
   "execution_count": 13,
   "metadata": {
    "pycharm": {
     "is_executing": false
    }
   },
   "outputs": [],
   "source": [
    "import Bio\n",
    "import numpy as np\n",
    "import math\n",
    "import networkx as nx\n",
    "import matplotlib.pyplot as plt\n",
    "from itertools import combinations "
   ]
  },
  {
   "cell_type": "code",
   "execution_count": 2,
   "metadata": {},
   "outputs": [],
   "source": [
    "def smtx(a,b):\n",
    "    if a == \"-\":\n",
    "        if b == \"-\":\n",
    "            return -math.inf\n",
    "        return -0.5\n",
    "    if a == b:\n",
    "        return 1\n",
    "    if b == \"-\":\n",
    "        return -0.5\n",
    "    else:\n",
    "        return 0\n",
    "    \n",
    "def NWA(seqa,seqb,fact):\n",
    "    grid = np.zeros((len(seqa)+1,len(seqb)+1))\n",
    "    bgrid = np.zeros((len(seqa)+1,len(seqb)+1),\"U1\")\n",
    "    srow = []\n",
    "    for i in range(len(seqb)+1):\n",
    "        srow.append(0-fact*i)\n",
    "    for i in range(len(seqa)+1):\n",
    "        grid[i][0] = 0-fact*i\n",
    "    grid[0] = srow\n",
    "    midgrid = grid[1:,1:]\n",
    "    for x in range(1,len(seqa)+1):\n",
    "        for y in range(1,len(seqb)+1):\n",
    "            bestcand = [(grid[x-1][y-1]+smtx(seqa[x-1],seqb[y-1])),\n",
    "                             (grid[x-1][y]+smtx(seqa[x-1],\"-\")),\n",
    "                             (grid[x][y-1]+smtx(\"-\",seqb[y-1]))]\n",
    "            grid[x][y] = max(bestcand)\n",
    "            if max(bestcand)==bestcand[0]:\n",
    "                bgrid[x][y] = \"d\"\n",
    "            elif max(bestcand)==bestcand[1]:\n",
    "                bgrid[x][y] = \"u\"\n",
    "            else:\n",
    "                bgrid[x][y] = \"l\"\n",
    "    #print(grid)\n",
    "    #print(bgrid)\n",
    "    \n",
    "    return grid, bgrid"
   ]
  },
  {
   "cell_type": "code",
   "execution_count": 3,
   "metadata": {},
   "outputs": [],
   "source": [
    "human = \"CCTTTCCGGCGGTGACGACCTACGCACACGAGAACATGCCTCTCGCAAAGGATCTCCTTCATCCCTCTCCAGAAGAGGAGAAGAGGAAA\"\\\n",
    "\"CACAAGAAGAAACGCCTGGTGCAGAGCCCCAATTCCTACTTCATGGATGTGAAATGCCCAGGATGCTATAAAATCACCACGGTCTTTAGCCATGCAC\"\\\n",
    "\"AAACGGTAGTTTTGTGTGTTGGCTGCTCCACTGTCCTCTGCCAGCCTACAGGAGGAAAAGCAAGGCTTACAGAAGGATGTTCCTTCAGGAGGAAGCA\"\\\n",
    "\"GCACTAAAAGCACTCTGAGTCAAGATGAGTGGGAAACCATCTCAATAAACACATTTTGGATAAATCCTG\"\n",
    "mouse = \"CCTTTCCGGCGGTGACGACCTCCCTACGAGAACATGCCTCTCGCAAAGGATCTCCTTCATCCCTCTCCAG\"\\\n",
    "\"AAGAGGAGAAGAGGAAACACAAGAAAAAGCGCCTGGTGCAGAGCCCCAATTCCTACTTTATGGACGTGAA\"\\\n",
    "\"ATGCCCAGGATGCTATAAAATCACCACGGTCTTTAGCCATGCACAAACGGTAGTCTTGTGTGTTGGCTGC\"\\\n",
    "\"TCCACTGTCCTCTGTCAGCCTACAGGTGGAAAAGCAAGGCTGACAGAAGGATGCTCCTTCAGGAGGAAGC\"\\\n",
    "\"AGCACTGAAAGCCCCTGATTGAAGATGAGTGGGAACCTTCCCAATAAACACGTTTTGGATATATAAAAAA\"\\\n",
    "\"AAAAAAAAAAAAAAAAAAAA\"\n",
    "chimp = \"CTTTCCGGCGGTGACGACCTACGCACCCGAGAACATGCCTCTCGCAAAGGATCTCCTTCATCCCTCTCCA\"\\\n",
    "\"GAAGAGGAGAAGAGGAAACACAAGAAGAAACGCCTGGTGCAGAGCCCCAATTCCTACTTCATGGATGTGA\"\\\n",
    "\"AATGCCCAGGATGCTATAAAATCACCACGGTCTTTAGCCATGCACAAACGGTAGTTTTGTGTGTTGGCTG\"\\\n",
    "\"CTCCACTGTCCTCTGCCAGCCTACAGGAGGAAAAGCAAGGCTTACAGAAGGATGTTCCTTCAGGAGGAAG\"\\\n",
    "\"CAGCACTAAAAGCACTCTGAGTCAAGATGAGTGGGAAACCATCTCAATAAACACATTTTGGATAAAAAAA\"\\\n",
    "\"AAAAAAAAAAAA\"\n",
    "catfish = \"TCCTACTTCCGGAATGCCCACGTGCTCTGTGAATAATATCGCGCCGCTTCCGCTGTGTACTTCCTTTCCG\"\\\n",
    "\"GCAGCGGCTAACTCTTCGCCAACATGCCACTCGCAAAAGACTTGCTGCACCCCACCCCTGAGGAGGAGAG\"\\\n",
    "\"AAGGAGGCACAAGAAGAAGCGTCTCGTACAGAGCCCTAATTCCTACTTCATGGACGTCAAGTGTCCAGGA\"\\\n",
    "\"TGCTATAAGATCACCACAGTCTTCAGCCATGCTCAGACAGTAGTGTTGTGTGTTGGTTGTTCCACTGTGC\"\\\n",
    "\"TGTGTCAACCCACTGGAGGCAAAGCACGTCTCACAGAAGGATGTTCCTTCAGGAGGAAGCAGCATTAAGC\"\\\n",
    "\"TGTACACTAGATGCTCCAGTATGGAGGAAGGGAGAGGGGGGTTGGACTCGCCCTCCAAAGACCTCTCGGC\"\\\n",
    "\"TACGATCGCTGATCTTTCAACTTGAGAGAAAGGAACAGAAGCAAACACCTCCACCATCAGTTGCTTGAAA\"\\\n",
    "\"AACTAGTAAAGATGGCTCTCCAACCCAGTCTCTCTCTTTCAATAAAATGTTTTGGCTAAAATA\"\n",
    "alligator = \"TTTGACCTTCCCAGCATGGCAGTGGGGCAGGACCACGGCCCCACTTCCGCCCGTGCGAGAGACCCCGGAG\"\\\n",
    "\"CGGATATAGCGGCCCCTGCTTCCGGTCTGACTCCTTTTCGGCCGCGACCGCCTCCACGCGAACATGCCTC\"\\\n",
    "\"TCGCCAAGGACCTGCTGCATCCGTCCCCCGAGGAGGAGAAGAGGAAACACAAGAAGAAGCGCCTGGTGCA\"\\\n",
    "\"GAGCCCCAACTCCTACTTCATGGACGTCAAGTGTCCCGGTTGCTATAAAATCACCACTGTCTTCAGCCAT\"\\\n",
    "\"GCTCAGACTGTGGTTCTGTGTGTGGGCTGCTCAACTGTGCTGTGCCAGCCCACCGGAGGAAAGGCAAGGC\"\\\n",
    "\"TTACAGAAGGATGTTCCTTCAGACGAAAGCAGCACTAACCTAAACAAGAGTATCTCTCGGAGATGGGTGT\"\\\n",
    "\"GGCTACCCGCACAGTGACCGCATGCAGGTACATGTGCCCCTAGGAGCATAGGACTCTACCTCAAAGCACT\"\\\n",
    "\"AGTGTGAGACAGGCTAGGTGCTTTGCAGAAACAGAACGTGGTTGGAGAATGTGACTTACTGTCCATGTAG\"\\\n",
    "\"CCTCACCCATCTCGCTCTCAATAAATTTTGGATAAAACATA\"\n",
    "\n",
    "real_taxa = [\"human\",\"mouse\",\"chimp\",\"catfish\",\"alligator\"]\n",
    "real_taxa_data = [human,mouse,chimp,catfish,alligator]"
   ]
  },
  {
   "cell_type": "code",
   "execution_count": 4,
   "metadata": {
    "pycharm": {
     "name": "#%%\n"
    }
   },
   "outputs": [],
   "source": [
    "def NJM(taxa,mtx,T):\n",
    "    print(taxa)\n",
    "    r_taxa = []\n",
    "    for i in range(len(taxa)):\n",
    "        res = 0\n",
    "        for j in range(len(taxa)):\n",
    "            res += mtx[i][j]\n",
    "        r_taxa.append(res)\n",
    "    #print(r_taxa)\n",
    "    #print(mincomb(r_taxa,mtx))\n",
    "    #print(\"mingot\")\n",
    "    eye = mincomb(r_taxa,mtx)[0]\n",
    "    jay = mincomb(r_taxa,mtx)[1]\n",
    "    T.add_node(taxa[eye])\n",
    "    T.add_node(taxa[jay])\n",
    "    T.add_node(taxa[eye]+taxa[jay])\n",
    "    if len(r_taxa)==2:\n",
    "        T.remove_node(taxa[eye]+taxa[jay])\n",
    "        #print(mtx[eye][jay])\n",
    "        plt.figure(figsize=(7,7))\n",
    "        T.add_edge(taxa[eye], taxa[jay], weight= np.round(mtx[eye][jay],2))\n",
    "        pos = nx.spring_layout(T)\n",
    "        nx.draw(T, pos=pos, with_labels=True, node_size=800, font_weight='bold')\n",
    "        labels = nx.get_edge_attributes(T,'weight')\n",
    "        nx.draw_networkx_edge_labels(T,pos,edge_labels=labels)\n",
    "        return\n",
    "    newmtx,disti,distj = merge(eye,jay,r_taxa,mtx)\n",
    "    T.add_edge(taxa[eye], taxa[eye]+taxa[jay], weight= np.round(disti,2))\n",
    "    T.add_edge(taxa[jay], taxa[eye]+taxa[jay], weight= np.round(distj,2))\n",
    "    if newmtx.shape[0]>=2:\n",
    "        NJM(np.append(np.delete(taxa,[eye,jay]),taxa[eye]+taxa[jay]),newmtx,T)\n",
    "\n",
    "def mincomb(taxa,mtx):\n",
    "    res = [math.inf,math.inf]\n",
    "    thresh = math.inf\n",
    "    for i in range(len(taxa)):\n",
    "        for j in range(len(taxa)):\n",
    "            if i==j:\n",
    "                continue\n",
    "            mini = mtx[i][j] - (taxa[i]+taxa[j])/(len(taxa)-2)\n",
    "            if mini<thresh:\n",
    "                thresh = mini\n",
    "                res = [i,j]\n",
    "    return res\n",
    "\n",
    "def merge(i,j,taxa,mtx):\n",
    "    distj = 0.5* (mtx[i][j]+(taxa[j]-taxa[i])/(len(taxa)-2))\n",
    "    disti = 0.5* (mtx[i][j]+(taxa[i]-taxa[j])/(len(taxa)-2))\n",
    "    \n",
    "    #print(disti,distj)\n",
    "    \n",
    "    newdists = []\n",
    "    for x in range(mtx.shape[0]):\n",
    "        if x!=i and x!=j:\n",
    "            temp = (mtx[i][x]+mtx[j][x]-mtx[i][j])/2\n",
    "            newdists.append(temp)\n",
    "    newdists.append(0)\n",
    "    \n",
    "    umtx = np.zeros((mtx.shape[0]-1,mtx.shape[0]-1))\n",
    "    umtx[mtx.shape[0]-2] = newdists\n",
    "    for n in range(mtx.shape[0]-2):\n",
    "        umtx[n][mtx.shape[0]-2] = newdists[n]\n",
    "    umtx[:umtx.shape[0]-1,:umtx.shape[1]-1] = deleteMtx(i,j,mtx)\n",
    "    #print(umtx)\n",
    "    return umtx,disti,distj\n",
    "    \n",
    "def deleteMtx(i,j,mtx):\n",
    "    nmtx = np.delete(mtx,[i,j],0)\n",
    "    nmtx = np.delete(nmtx,[i,j],1)\n",
    "    np.delete(mtx,i,1)\n",
    "    np.delete(mtx,j,0)\n",
    "    np.delete(mtx,j,1)\n",
    "    #print(nmtx)\n",
    "    return nmtx\n",
    "    \n",
    "            "
   ]
  },
  {
   "cell_type": "code",
   "execution_count": 6,
   "metadata": {},
   "outputs": [
    {
     "name": "stdout",
     "output_type": "stream",
     "text": [
      "[[0.         3.20512821 2.94985251 4.96277916 5.22193211]\n",
      " [3.20512821 0.         3.02114804 4.51467269 4.81927711]\n",
      " [2.94985251 3.02114804 0.         4.61893764 4.84261501]\n",
      " [4.96277916 4.51467269 4.61893764 0.         2.68817204]\n",
      " [5.22193211 4.81927711 4.84261501 2.68817204 0.        ]]\n",
      "['human', 'mouse', 'chimp', 'catfish', 'alligator']\n",
      "[16.339691983712886, 15.560226036045965, 15.432553200076747, 16.784561529910345, 17.57199627843353]\n",
      "[3, 4]\n",
      "mingot\n",
      "1.212846896751512 1.4753251462592405\n",
      "[[0.         3.20512821 2.94985251]\n",
      " [3.20512821 0.         3.02114804]\n",
      " [2.94985251 3.02114804 0.        ]]\n",
      "[[0.         3.20512821 2.94985251 3.74826961]\n",
      " [3.20512821 0.         3.02114804 3.32288888]\n",
      " [2.94985251 3.02114804 0.         3.38669031]\n",
      " [3.74826961 3.32288888 3.38669031 0.        ]]\n",
      "['human' 'mouse' 'chimp' 'catfishalligator']\n",
      "[9.903250326602485, 9.549165117208597, 9.3576908503472, 10.457848796645058]\n",
      "[0, 2]\n",
      "mingot\n",
      "1.6113161227511368 1.3385363846234943\n",
      "[[0.         3.32288888]\n",
      " [3.32288888 0.        ]]\n",
      "[[0.         3.32288888 1.63821187]\n",
      " [3.32288888 0.         2.09255371]\n",
      " [1.63821187 2.09255371 0.        ]]\n",
      "['mouse' 'catfishalligator' 'humanchimp']\n",
      "[4.961100742830291, 5.415442582548521, 3.7307655737255807]\n",
      "[1, 2]\n",
      "mingot\n",
      "1.888615357772423 0.2039383489494826\n",
      "[[0.]]\n",
      "[[0.         1.43427352]\n",
      " [1.43427352 0.        ]]\n",
      "['mouse' 'catfishalligatorhumanchimp']\n",
      "[1.4342735180541926, 1.4342735180541926]\n",
      "[0, 1]\n",
      "mingot\n",
      "1.4342735180541926\n"
     ]
    },
    {
     "name": "stderr",
     "output_type": "stream",
     "text": [
      "C:\\Users\\callu\\Miniconda3\\envs\\CS904\\lib\\site-packages\\ipykernel_launcher.py:40: RuntimeWarning: divide by zero encountered in double_scalars\n"
     ]
    },
    {
     "data": {
      "image/png": "[encoded data removed]",
      "text/plain": [
       "<Figure size 504x504 with 1 Axes>"
      ]
     },
     "metadata": {},
     "output_type": "display_data"
    }
   ],
   "source": [
    "real_dist = np.zeros((len(real_taxa),len(real_taxa)))\n",
    "for x in range(len(real_taxa)):\n",
    "    for y in range(len(real_taxa)):\n",
    "        if x==y:\n",
    "            real_dist[x][y] = 0\n",
    "            continue\n",
    "        else:\n",
    "            g,bg = NWA(real_taxa_data[x],real_taxa_data[y],0.5)\n",
    "            real_dist[x][y] = 1000/g[g.shape[0]-1,g.shape[1]-1]\n",
    "print(real_dist)\n",
    "RT = nx.Graph()\n",
    "NJM(real_taxa,real_dist,RT)"
   ]
  },
  {
   "cell_type": "code",
   "execution_count": 19,
   "metadata": {},
   "outputs": [],
   "source": [
    "#print(RT.nodes)\n",
    "subs = list(combinations(real_taxa,4))\n",
    "\n",
    "for s in subs:\n",
    "    u,v,w,x = s[0],s[1],s[2],s[3]\n",
    "    u2,v2,w2,x2 = s[0],s[1],s[3],s[2]\n",
    "    u3,v3,w3,x3 = s[0],s[2],s[1],s[3]\n",
    "    one = False\n",
    "    two = False\n",
    "    three = False\n",
    "    if uv+wx == ux+vw:\n",
    "        if uw+vx<=\n",
    "    if uv+xw == uw+xv:\n",
    "        if\n",
    "    if uw+vx == ux+vw:\n",
    "        if uv+xw<=ux+vw:\n",
    "            three = True"
   ]
  },
  {
   "cell_type": "code",
   "execution_count": null,
   "metadata": {},
   "outputs": [],
   "source": []
  }
 ],
 "metadata": {
  "kernelspec": {
   "display_name": "Python 3",
   "language": "python",
   "name": "python3"
  },
  "language_info": {
   "codemirror_mode": {
    "name": "ipython",
    "version": 3
   },
   "file_extension": ".py",
   "mimetype": "text/x-python",
   "name": "python",
   "nbconvert_exporter": "python",
   "pygments_lexer": "ipython3",
   "version": "3.7.6"
  },
  "pycharm": {
   "stem_cell": {
    "cell_type": "raw",
    "metadata": {
     "collapsed": false
    },
    "source": []
   }
  }
 },
 "nbformat": 4,
 "nbformat_minor": 1
}
