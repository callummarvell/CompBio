{
 "cells": [
  {
   "cell_type": "code",
   "execution_count": 8,
   "metadata": {
    "pycharm": {
     "is_executing": false
    }
   },
   "outputs": [],
   "source": [
    "import Bio\n",
    "import numpy as np\n",
    "import math\n",
    "import networkx as nx\n",
    "import matplotlib.pyplot as plt\n",
    "from itertools import combinations, permutations"
   ]
  },
  {
   "cell_type": "code",
   "execution_count": 3,
   "metadata": {},
   "outputs": [],
   "source": [
    "def smtx(a,b):\n",
    "    if a == \"-\":\n",
    "        if b == \"-\":\n",
    "            return -math.inf\n",
    "        return -0.5\n",
    "    if a == b:\n",
    "        return 1\n",
    "    if b == \"-\":\n",
    "        return -0.5\n",
    "    else:\n",
    "        return 0\n",
    "    \n",
    "def NWA(seqa,seqb,fact):\n",
    "    grid = np.zeros((len(seqa)+1,len(seqb)+1))\n",
    "    bgrid = np.zeros((len(seqa)+1,len(seqb)+1),\"U1\")\n",
    "    srow = []\n",
    "    for i in range(len(seqb)+1):\n",
    "        srow.append(0-fact*i)\n",
    "    for i in range(len(seqa)+1):\n",
    "        grid[i][0] = 0-fact*i\n",
    "    grid[0] = srow\n",
    "    midgrid = grid[1:,1:]\n",
    "    for x in range(1,len(seqa)+1):\n",
    "        for y in range(1,len(seqb)+1):\n",
    "            bestcand = [(grid[x-1][y-1]+smtx(seqa[x-1],seqb[y-1])),\n",
    "                             (grid[x-1][y]+smtx(seqa[x-1],\"-\")),\n",
    "                             (grid[x][y-1]+smtx(\"-\",seqb[y-1]))]\n",
    "            grid[x][y] = max(bestcand)\n",
    "            if max(bestcand)==bestcand[0]:\n",
    "                bgrid[x][y] = \"d\"\n",
    "            elif max(bestcand)==bestcand[1]:\n",
    "                bgrid[x][y] = \"u\"\n",
    "            else:\n",
    "                bgrid[x][y] = \"l\"\n",
    "    #print(grid)\n",
    "    #print(bgrid)\n",
    "    \n",
    "    return grid, bgrid"
   ]
  },
  {
   "cell_type": "code",
   "execution_count": 4,
   "metadata": {},
   "outputs": [],
   "source": [
    "human = \"CCTTTCCGGCGGTGACGACCTACGCACACGAGAACATGCCTCTCGCAAAGGATCTCCTTCATCCCTCTCCAGAAGAGGAGAAGAGGAAA\"\\\n",
    "\"CACAAGAAGAAACGCCTGGTGCAGAGCCCCAATTCCTACTTCATGGATGTGAAATGCCCAGGATGCTATAAAATCACCACGGTCTTTAGCCATGCAC\"\\\n",
    "\"AAACGGTAGTTTTGTGTGTTGGCTGCTCCACTGTCCTCTGCCAGCCTACAGGAGGAAAAGCAAGGCTTACAGAAGGATGTTCCTTCAGGAGGAAGCA\"\\\n",
    "\"GCACTAAAAGCACTCTGAGTCAAGATGAGTGGGAAACCATCTCAATAAACACATTTTGGATAAATCCTG\"\n",
    "mouse = \"CCTTTCCGGCGGTGACGACCTCCCTACGAGAACATGCCTCTCGCAAAGGATCTCCTTCATCCCTCTCCAG\"\\\n",
    "\"AAGAGGAGAAGAGGAAACACAAGAAAAAGCGCCTGGTGCAGAGCCCCAATTCCTACTTTATGGACGTGAA\"\\\n",
    "\"ATGCCCAGGATGCTATAAAATCACCACGGTCTTTAGCCATGCACAAACGGTAGTCTTGTGTGTTGGCTGC\"\\\n",
    "\"TCCACTGTCCTCTGTCAGCCTACAGGTGGAAAAGCAAGGCTGACAGAAGGATGCTCCTTCAGGAGGAAGC\"\\\n",
    "\"AGCACTGAAAGCCCCTGATTGAAGATGAGTGGGAACCTTCCCAATAAACACGTTTTGGATATATAAAAAA\"\\\n",
    "\"AAAAAAAAAAAAAAAAAAAA\"\n",
    "chimp = \"CTTTCCGGCGGTGACGACCTACGCACCCGAGAACATGCCTCTCGCAAAGGATCTCCTTCATCCCTCTCCA\"\\\n",
    "\"GAAGAGGAGAAGAGGAAACACAAGAAGAAACGCCTGGTGCAGAGCCCCAATTCCTACTTCATGGATGTGA\"\\\n",
    "\"AATGCCCAGGATGCTATAAAATCACCACGGTCTTTAGCCATGCACAAACGGTAGTTTTGTGTGTTGGCTG\"\\\n",
    "\"CTCCACTGTCCTCTGCCAGCCTACAGGAGGAAAAGCAAGGCTTACAGAAGGATGTTCCTTCAGGAGGAAG\"\\\n",
    "\"CAGCACTAAAAGCACTCTGAGTCAAGATGAGTGGGAAACCATCTCAATAAACACATTTTGGATAAAAAAA\"\\\n",
    "\"AAAAAAAAAAAA\"\n",
    "catfish = \"TCCTACTTCCGGAATGCCCACGTGCTCTGTGAATAATATCGCGCCGCTTCCGCTGTGTACTTCCTTTCCG\"\\\n",
    "\"GCAGCGGCTAACTCTTCGCCAACATGCCACTCGCAAAAGACTTGCTGCACCCCACCCCTGAGGAGGAGAG\"\\\n",
    "\"AAGGAGGCACAAGAAGAAGCGTCTCGTACAGAGCCCTAATTCCTACTTCATGGACGTCAAGTGTCCAGGA\"\\\n",
    "\"TGCTATAAGATCACCACAGTCTTCAGCCATGCTCAGACAGTAGTGTTGTGTGTTGGTTGTTCCACTGTGC\"\\\n",
    "\"TGTGTCAACCCACTGGAGGCAAAGCACGTCTCACAGAAGGATGTTCCTTCAGGAGGAAGCAGCATTAAGC\"\\\n",
    "\"TGTACACTAGATGCTCCAGTATGGAGGAAGGGAGAGGGGGGTTGGACTCGCCCTCCAAAGACCTCTCGGC\"\\\n",
    "\"TACGATCGCTGATCTTTCAACTTGAGAGAAAGGAACAGAAGCAAACACCTCCACCATCAGTTGCTTGAAA\"\\\n",
    "\"AACTAGTAAAGATGGCTCTCCAACCCAGTCTCTCTCTTTCAATAAAATGTTTTGGCTAAAATA\"\n",
    "alligator = \"TTTGACCTTCCCAGCATGGCAGTGGGGCAGGACCACGGCCCCACTTCCGCCCGTGCGAGAGACCCCGGAG\"\\\n",
    "\"CGGATATAGCGGCCCCTGCTTCCGGTCTGACTCCTTTTCGGCCGCGACCGCCTCCACGCGAACATGCCTC\"\\\n",
    "\"TCGCCAAGGACCTGCTGCATCCGTCCCCCGAGGAGGAGAAGAGGAAACACAAGAAGAAGCGCCTGGTGCA\"\\\n",
    "\"GAGCCCCAACTCCTACTTCATGGACGTCAAGTGTCCCGGTTGCTATAAAATCACCACTGTCTTCAGCCAT\"\\\n",
    "\"GCTCAGACTGTGGTTCTGTGTGTGGGCTGCTCAACTGTGCTGTGCCAGCCCACCGGAGGAAAGGCAAGGC\"\\\n",
    "\"TTACAGAAGGATGTTCCTTCAGACGAAAGCAGCACTAACCTAAACAAGAGTATCTCTCGGAGATGGGTGT\"\\\n",
    "\"GGCTACCCGCACAGTGACCGCATGCAGGTACATGTGCCCCTAGGAGCATAGGACTCTACCTCAAAGCACT\"\\\n",
    "\"AGTGTGAGACAGGCTAGGTGCTTTGCAGAAACAGAACGTGGTTGGAGAATGTGACTTACTGTCCATGTAG\"\\\n",
    "\"CCTCACCCATCTCGCTCTCAATAAATTTTGGATAAAACATA\"\n",
    "\n",
    "real_taxa = [\"human\",\"mouse\",\"chimp\",\"catfish\",\"alligator\"]\n",
    "real_taxa_data = [human,mouse,chimp,catfish,alligator]"
   ]
  },
  {
   "cell_type": "code",
   "execution_count": 5,
   "metadata": {
    "pycharm": {
     "name": "#%%\n"
    }
   },
   "outputs": [],
   "source": [
    "def NJM(taxa,mtx,T):\n",
    "    print(taxa)\n",
    "    r_taxa = []\n",
    "    for i in range(len(taxa)):\n",
    "        res = 0\n",
    "        for j in range(len(taxa)):\n",
    "            res += mtx[i][j]\n",
    "        r_taxa.append(res)\n",
    "    #print(r_taxa)\n",
    "    #print(mincomb(r_taxa,mtx))\n",
    "    #print(\"mingot\")\n",
    "    eye = mincomb(r_taxa,mtx)[0]\n",
    "    jay = mincomb(r_taxa,mtx)[1]\n",
    "    T.add_node(taxa[eye])\n",
    "    T.add_node(taxa[jay])\n",
    "    T.add_node(taxa[eye]+taxa[jay])\n",
    "    if len(r_taxa)==2:\n",
    "        T.remove_node(taxa[eye]+taxa[jay])\n",
    "        #print(mtx[eye][jay])\n",
    "        plt.figure(figsize=(7,7))\n",
    "        T.add_edge(taxa[eye], taxa[jay], weight= np.round(mtx[eye][jay],2))\n",
    "        pos = nx.spring_layout(T)\n",
    "        nx.draw(T, pos=pos, with_labels=True, node_size=800, font_weight='bold')\n",
    "        labels = nx.get_edge_attributes(T,'weight')\n",
    "        nx.draw_networkx_edge_labels(T,pos,edge_labels=labels)\n",
    "        return\n",
    "    newmtx,disti,distj = merge(eye,jay,r_taxa,mtx)\n",
    "    T.add_edge(taxa[eye], taxa[eye]+taxa[jay], weight= np.round(disti,2))\n",
    "    T.add_edge(taxa[jay], taxa[eye]+taxa[jay], weight= np.round(distj,2))\n",
    "    if newmtx.shape[0]>=2:\n",
    "        NJM(np.append(np.delete(taxa,[eye,jay]),taxa[eye]+taxa[jay]),newmtx,T)\n",
    "\n",
    "def mincomb(taxa,mtx):\n",
    "    res = [math.inf,math.inf]\n",
    "    thresh = math.inf\n",
    "    for i in range(len(taxa)):\n",
    "        for j in range(len(taxa)):\n",
    "            if i==j:\n",
    "                continue\n",
    "            mini = mtx[i][j] - (taxa[i]+taxa[j])/(len(taxa)-2)\n",
    "            if mini<thresh:\n",
    "                thresh = mini\n",
    "                res = [i,j]\n",
    "    return res\n",
    "\n",
    "def merge(i,j,taxa,mtx):\n",
    "    distj = 0.5* (mtx[i][j]+(taxa[j]-taxa[i])/(len(taxa)-2))\n",
    "    disti = 0.5* (mtx[i][j]+(taxa[i]-taxa[j])/(len(taxa)-2))\n",
    "    \n",
    "    #print(disti,distj)\n",
    "    \n",
    "    newdists = []\n",
    "    for x in range(mtx.shape[0]):\n",
    "        if x!=i and x!=j:\n",
    "            temp = (mtx[i][x]+mtx[j][x]-mtx[i][j])/2\n",
    "            newdists.append(temp)\n",
    "    newdists.append(0)\n",
    "    \n",
    "    umtx = np.zeros((mtx.shape[0]-1,mtx.shape[0]-1))\n",
    "    umtx[mtx.shape[0]-2] = newdists\n",
    "    for n in range(mtx.shape[0]-2):\n",
    "        umtx[n][mtx.shape[0]-2] = newdists[n]\n",
    "    umtx[:umtx.shape[0]-1,:umtx.shape[1]-1] = deleteMtx(i,j,mtx)\n",
    "    #print(umtx)\n",
    "    return umtx,disti,distj\n",
    "    \n",
    "def deleteMtx(i,j,mtx):\n",
    "    nmtx = np.delete(mtx,[i,j],0)\n",
    "    nmtx = np.delete(nmtx,[i,j],1)\n",
    "    np.delete(mtx,i,1)\n",
    "    np.delete(mtx,j,0)\n",
    "    np.delete(mtx,j,1)\n",
    "    #print(nmtx)\n",
    "    return nmtx\n",
    "    \n",
    "            "
   ]
  },
  {
   "cell_type": "code",
   "execution_count": 6,
   "metadata": {},
   "outputs": [
    {
     "name": "stdout",
     "output_type": "stream",
     "text": [
      "[[0.         3.20512821 2.94985251 4.96277916 5.22193211]\n",
      " [3.20512821 0.         3.02114804 4.51467269 4.81927711]\n",
      " [2.94985251 3.02114804 0.         4.61893764 4.84261501]\n",
      " [4.96277916 4.51467269 4.61893764 0.         2.68817204]\n",
      " [5.22193211 4.81927711 4.84261501 2.68817204 0.        ]]\n",
      "['human', 'mouse', 'chimp', 'catfish', 'alligator']\n",
      "['human' 'mouse' 'chimp' 'catfishalligator']\n",
      "['mouse' 'catfishalligator' 'humanchimp']\n",
      "['mouse' 'catfishalligatorhumanchimp']\n"
     ]
    },
    {
     "name": "stderr",
     "output_type": "stream",
     "text": [
      "C:\\Users\\callu\\Miniconda3\\envs\\CS904\\lib\\site-packages\\ipykernel_launcher.py:40: RuntimeWarning: divide by zero encountered in double_scalars\n"
     ]
    },
    {
     "data": {
      "image/png": "[encoded data removed]",
      "text/plain": [
       "<Figure size 504x504 with 1 Axes>"
      ]
     },
     "metadata": {},
     "output_type": "display_data"
    }
   ],
   "source": [
    "real_dist = np.zeros((len(real_taxa),len(real_taxa)))\n",
    "for x in range(len(real_taxa)):\n",
    "    for y in range(len(real_taxa)):\n",
    "        if x==y:\n",
    "            real_dist[x][y] = 0\n",
    "            continue\n",
    "        else:\n",
    "            g,bg = NWA(real_taxa_data[x],real_taxa_data[y],0.5)\n",
    "            real_dist[x][y] = 1000/g[g.shape[0]-1,g.shape[1]-1]\n",
    "print(real_dist)\n",
    "RT = nx.Graph()\n",
    "NJM(real_taxa,real_dist,RT)"
   ]
  },
  {
   "cell_type": "code",
   "execution_count": 12,
   "metadata": {
    "pycharm": {
     "name": "#%%\n"
    }
   },
   "outputs": [
    {
     "name": "stdout",
     "output_type": "stream",
     "text": [
      "Tree/Matrix is additive = False\n"
     ]
    }
   ],
   "source": [
    "#print(RT.nodes)\n",
    "subs = list(combinations([0,1,2,3,4],4))\n",
    "\n",
    "full = True\n",
    "for s in subs:\n",
    "    perms = list(permutations(s))\n",
    "    short = False\n",
    "    for p in perms:\n",
    "        u,v,w,x = p[0],p[2],p[1],p[3]\n",
    "        if real_dist[u][w]+real_dist[v][x] == real_dist[u][x]+real_dist[v][w]:\n",
    "            if real_dist[u][v]+real_dist[x][w]<=real_dist[u][x]+real_dist[v][w]:\n",
    "                short = True\n",
    "                break\n",
    "    if short == False:\n",
    "        full = False\n",
    "        break\n",
    "\n",
    "print(\"Tree/Matrix is additive = \"+ str(full))"
   ]
  }
 ],
 "metadata": {
  "kernelspec": {
   "display_name": "Python 3",
   "language": "python",
   "name": "python3"
  },
  "language_info": {
   "codemirror_mode": {
    "name": "ipython",
    "version": 3
   },
   "file_extension": ".py",
   "mimetype": "text/x-python",
   "name": "python",
   "nbconvert_exporter": "python",
   "pygments_lexer": "ipython3",
   "version": "3.7.6"
  },
  "pycharm": {
   "stem_cell": {
    "cell_type": "raw",
    "metadata": {
     "collapsed": false
    },
    "source": []
   }
  }
 },
 "nbformat": 4,
 "nbformat_minor": 1
}
