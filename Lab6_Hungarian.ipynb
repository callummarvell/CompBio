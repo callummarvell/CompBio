{
 "cells": [
  {
   "cell_type": "code",
   "execution_count": 1,
   "metadata": {},
   "outputs": [],
   "source": [
    "import Bio\n",
    "import numpy as np\n",
    "import math, random\n",
    "import matplotlib.pyplot as plt\n",
    "from scipy.integrate import solve_ivp"
   ]
  },
  {
   "cell_type": "code",
   "execution_count": 63,
   "metadata": {},
   "outputs": [],
   "source": [
    "t1_pos = np.asanyarray([[103.2318,103.0443],\n",
    "                        [153.0704, 404.2540],\n",
    "                        [198.9648, 290.6520],\n",
    "                        [251.8117, 127.3104],\n",
    "                        [353.2106, 352.2015],\n",
    "                        [401.5475, 101.9784]])\n",
    "\n",
    "t1_mint = np.asanyarray([1703.736, 2361.102, 1980.235, 3196.454, 2894.918, 1796.900])\n",
    "\n",
    "t2_pos = np.asanyarray([[94.6502, 223.7952],\n",
    "                        [153.7713, 391.7588],\n",
    "                        [244.8390, 293.7073],\n",
    "                        [337.7024, 380.5297],\n",
    "                        [351.6158, 185.1113],\n",
    "                        [424.8356, 93.8114]])\n",
    "\n",
    "t2_mint = np.asanyarray([1897.335, 2801.078, 2187.318, 3402.642, 2880.523, 2303.353])\n",
    "\n",
    "adjacency_mtx = np.zeros((len(t1_mint),len(t2_mint)))\n",
    "for x in range(len(t1_mint)):\n",
    "    for y in range(len(t2_mint)):\n",
    "        dist = np.sqrt(np.square(t1_pos[x,0] - t2_pos[y,0]) + np.square(t1_pos[x,1] - t2_pos[y,1]))\n",
    "        intdiff = np.sqrt(np.square(t1_mint[x]-t2_mint[y]))\n",
    "        adjacency_mtx[x,y] = dist * intdiff\n",
    "\n",
    "#print(adjacency_mtx)"
   ]
  },
  {
   "cell_type": "code",
   "execution_count": 64,
   "metadata": {},
   "outputs": [
    {
     "name": "stdout",
     "output_type": "stream",
     "text": [
      "Best matching from t1 to t2 is:  [(0, 0), (1, 1), (2, 2), (4, 3), (3, 4), (5, 5)]\n"
     ]
    }
   ],
   "source": [
    "import itertools\n",
    "list1=[0,1,2,3,4,5]\n",
    "list2=[0,1,2,3,4,5]\n",
    "mindiff = math.inf\n",
    "best = [None,None,None,None,None,None]\n",
    "\n",
    "pairs = [zip(x,list2) for x in itertools.permutations(list1,len(list2))]\n",
    "combs = [list(x) for x in pairs]\n",
    "#print(combs)\n",
    "\n",
    "for x in combs:\n",
    "    #print(x)\n",
    "    diff = adjacency_mtx[x[0][0],x[0][1]] + \\\n",
    "            adjacency_mtx[x[1][0],x[1][1]] + \\\n",
    "            adjacency_mtx[x[2][0],x[2][1]] + \\\n",
    "            adjacency_mtx[x[3][0],x[3][1]] + \\\n",
    "            adjacency_mtx[x[4][0],x[4][1]] + \\\n",
    "            adjacency_mtx[x[5][0],x[5][1]] \n",
    "    #print(diff)\n",
    "    if diff<mindiff:\n",
    "        #print(x)\n",
    "        #print(\"YES\")\n",
    "        mindiff = diff\n",
    "        best = x\n",
    "\n",
    "print(\"Best matching from t1 to t2 is: \", best)"
   ]
  },
  {
   "cell_type": "code",
   "execution_count": null,
   "metadata": {},
   "outputs": [],
   "source": []
  }
 ],
 "metadata": {
  "kernelspec": {
   "display_name": "Python 3",
   "language": "python",
   "name": "python3"
  },
  "language_info": {
   "codemirror_mode": {
    "name": "ipython",
    "version": 3
   },
   "file_extension": ".py",
   "mimetype": "text/x-python",
   "name": "python",
   "nbconvert_exporter": "python",
   "pygments_lexer": "ipython3",
   "version": "3.7.6"
  },
  "pycharm": {
   "stem_cell": {
    "cell_type": "raw",
    "metadata": {
     "collapsed": false
    },
    "source": []
   }
  }
 },
 "nbformat": 4,
 "nbformat_minor": 1
}
